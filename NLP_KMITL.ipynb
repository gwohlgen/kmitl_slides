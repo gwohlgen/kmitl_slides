{
  "nbformat": 4,
  "nbformat_minor": 0,
  "metadata": {
    "colab": {
      "name": "NLP KMITL.ipynb",
      "version": "0.3.2",
      "provenance": [],
      "collapsed_sections": [
        "1TO-1tIiP6Uz",
        "HT7Z1o-_OMNU",
        "KfZbI-iORHF1",
        "vzXviseWToVO",
        "GX-bkvtORWYT",
        "REmgXTG9RzHi"
      ]
    },
    "kernelspec": {
      "name": "python3",
      "display_name": "Python 3"
    }
  },
  "cells": [
    {
      "cell_type": "markdown",
      "metadata": {
        "id": "1TO-1tIiP6Uz",
        "colab_type": "text"
      },
      "source": [
        "\n",
        "\n",
        "# **NLTK Basics (from slideset)**\n"
      ]
    },
    {
      "cell_type": "code",
      "metadata": {
        "id": "mZZdt8m9KBNQ",
        "colab_type": "code",
        "outputId": "94a01d4b-7994-4bcc-eee9-27efc8e4846d",
        "colab": {
          "base_uri": "https://localhost:8080/",
          "height": 34
        }
      },
      "source": [
        "import nltk\n",
        "from nltk.tokenize import sent_tokenize\n",
        "sent_tokenize(\"Hello, Mr. Anderson. We missed you!\")"
      ],
      "execution_count": 0,
      "outputs": [
        {
          "output_type": "execute_result",
          "data": {
            "text/plain": [
              "['Hello, Mr. Anderson.', 'We missed you!']"
            ]
          },
          "metadata": {
            "tags": []
          },
          "execution_count": 6
        }
      ]
    },
    {
      "cell_type": "code",
      "metadata": {
        "id": "pj_1SMgZK4Zo",
        "colab_type": "code",
        "outputId": "456395c7-7a3c-4f06-f703-ea6592d68575",
        "colab": {
          "base_uri": "https://localhost:8080/",
          "height": 34
        }
      },
      "source": [
        "from nltk.tokenize import word_tokenize\n",
        "word_tokenize('This is NLTK.')"
      ],
      "execution_count": 0,
      "outputs": [
        {
          "output_type": "execute_result",
          "data": {
            "text/plain": [
              "['This', 'is', 'NLTK', '.']"
            ]
          },
          "metadata": {
            "tags": []
          },
          "execution_count": 7
        }
      ]
    },
    {
      "cell_type": "code",
      "metadata": {
        "id": "kNa87oVHK4tY",
        "colab_type": "code",
        "outputId": "a2c23f88-b680-40bd-f536-08cdd9298346",
        "colab": {
          "base_uri": "https://localhost:8080/",
          "height": 119
        }
      },
      "source": [
        "from nltk.tag import pos_tag\n",
        "\n",
        "words = word_tokenize(\"And now for something completely different\")\n",
        "pos_tag(words)"
      ],
      "execution_count": 0,
      "outputs": [
        {
          "output_type": "execute_result",
          "data": {
            "text/plain": [
              "[('And', 'CC'),\n",
              " ('now', 'RB'),\n",
              " ('for', 'IN'),\n",
              " ('something', 'NN'),\n",
              " ('completely', 'RB'),\n",
              " ('different', 'JJ')]"
            ]
          },
          "metadata": {
            "tags": []
          },
          "execution_count": 8
        }
      ]
    },
    {
      "cell_type": "code",
      "metadata": {
        "id": "sZK0Zc5uK48b",
        "colab_type": "code",
        "outputId": "dc147ca9-a43f-405f-a9b8-7d86d82cb7b9",
        "colab": {
          "base_uri": "https://localhost:8080/",
          "height": 412
        }
      },
      "source": [
        "from nltk.chunk import ne_chunk\n",
        "ne_chunk(pos_tag(word_tokenize('My name is Jacob Perkins.')))"
      ],
      "execution_count": 0,
      "outputs": [
        {
          "output_type": "error",
          "ename": "TclError",
          "evalue": "ignored",
          "traceback": [
            "\u001b[0;31m---------------------------------------------------------------------------\u001b[0m",
            "\u001b[0;31mTclError\u001b[0m                                  Traceback (most recent call last)",
            "\u001b[0;32m/usr/local/lib/python3.6/dist-packages/IPython/core/formatters.py\u001b[0m in \u001b[0;36m__call__\u001b[0;34m(self, obj)\u001b[0m\n\u001b[1;32m    336\u001b[0m             \u001b[0mmethod\u001b[0m \u001b[0;34m=\u001b[0m \u001b[0mget_real_method\u001b[0m\u001b[0;34m(\u001b[0m\u001b[0mobj\u001b[0m\u001b[0;34m,\u001b[0m \u001b[0mself\u001b[0m\u001b[0;34m.\u001b[0m\u001b[0mprint_method\u001b[0m\u001b[0;34m)\u001b[0m\u001b[0;34m\u001b[0m\u001b[0;34m\u001b[0m\u001b[0m\n\u001b[1;32m    337\u001b[0m             \u001b[0;32mif\u001b[0m \u001b[0mmethod\u001b[0m \u001b[0;32mis\u001b[0m \u001b[0;32mnot\u001b[0m \u001b[0;32mNone\u001b[0m\u001b[0;34m:\u001b[0m\u001b[0;34m\u001b[0m\u001b[0;34m\u001b[0m\u001b[0m\n\u001b[0;32m--> 338\u001b[0;31m                 \u001b[0;32mreturn\u001b[0m \u001b[0mmethod\u001b[0m\u001b[0;34m(\u001b[0m\u001b[0;34m)\u001b[0m\u001b[0;34m\u001b[0m\u001b[0;34m\u001b[0m\u001b[0m\n\u001b[0m\u001b[1;32m    339\u001b[0m             \u001b[0;32mreturn\u001b[0m \u001b[0;32mNone\u001b[0m\u001b[0;34m\u001b[0m\u001b[0;34m\u001b[0m\u001b[0m\n\u001b[1;32m    340\u001b[0m         \u001b[0;32melse\u001b[0m\u001b[0;34m:\u001b[0m\u001b[0;34m\u001b[0m\u001b[0;34m\u001b[0m\u001b[0m\n",
            "\u001b[0;32m/usr/local/lib/python3.6/dist-packages/nltk/tree.py\u001b[0m in \u001b[0;36m_repr_png_\u001b[0;34m(self)\u001b[0m\n\u001b[1;32m    717\u001b[0m         \u001b[0;32mfrom\u001b[0m \u001b[0mnltk\u001b[0m\u001b[0;34m.\u001b[0m\u001b[0mdraw\u001b[0m\u001b[0;34m.\u001b[0m\u001b[0mutil\u001b[0m \u001b[0;32mimport\u001b[0m \u001b[0mCanvasFrame\u001b[0m\u001b[0;34m\u001b[0m\u001b[0;34m\u001b[0m\u001b[0m\n\u001b[1;32m    718\u001b[0m         \u001b[0;32mfrom\u001b[0m \u001b[0mnltk\u001b[0m\u001b[0;34m.\u001b[0m\u001b[0minternals\u001b[0m \u001b[0;32mimport\u001b[0m \u001b[0mfind_binary\u001b[0m\u001b[0;34m\u001b[0m\u001b[0;34m\u001b[0m\u001b[0m\n\u001b[0;32m--> 719\u001b[0;31m         \u001b[0m_canvas_frame\u001b[0m \u001b[0;34m=\u001b[0m \u001b[0mCanvasFrame\u001b[0m\u001b[0;34m(\u001b[0m\u001b[0;34m)\u001b[0m\u001b[0;34m\u001b[0m\u001b[0;34m\u001b[0m\u001b[0m\n\u001b[0m\u001b[1;32m    720\u001b[0m         \u001b[0mwidget\u001b[0m \u001b[0;34m=\u001b[0m \u001b[0mtree_to_treesegment\u001b[0m\u001b[0;34m(\u001b[0m\u001b[0m_canvas_frame\u001b[0m\u001b[0;34m.\u001b[0m\u001b[0mcanvas\u001b[0m\u001b[0;34m(\u001b[0m\u001b[0;34m)\u001b[0m\u001b[0;34m,\u001b[0m \u001b[0mself\u001b[0m\u001b[0;34m)\u001b[0m\u001b[0;34m\u001b[0m\u001b[0;34m\u001b[0m\u001b[0m\n\u001b[1;32m    721\u001b[0m         \u001b[0m_canvas_frame\u001b[0m\u001b[0;34m.\u001b[0m\u001b[0madd_widget\u001b[0m\u001b[0;34m(\u001b[0m\u001b[0mwidget\u001b[0m\u001b[0;34m)\u001b[0m\u001b[0;34m\u001b[0m\u001b[0;34m\u001b[0m\u001b[0m\n",
            "\u001b[0;32m/usr/local/lib/python3.6/dist-packages/nltk/draw/util.py\u001b[0m in \u001b[0;36m__init__\u001b[0;34m(self, parent, **kw)\u001b[0m\n\u001b[1;32m   1651\u001b[0m         \u001b[0;31m# If no parent was given, set up a top-level window.\u001b[0m\u001b[0;34m\u001b[0m\u001b[0;34m\u001b[0m\u001b[0;34m\u001b[0m\u001b[0m\n\u001b[1;32m   1652\u001b[0m         \u001b[0;32mif\u001b[0m \u001b[0mparent\u001b[0m \u001b[0;32mis\u001b[0m \u001b[0;32mNone\u001b[0m\u001b[0;34m:\u001b[0m\u001b[0;34m\u001b[0m\u001b[0;34m\u001b[0m\u001b[0m\n\u001b[0;32m-> 1653\u001b[0;31m             \u001b[0mself\u001b[0m\u001b[0;34m.\u001b[0m\u001b[0m_parent\u001b[0m \u001b[0;34m=\u001b[0m \u001b[0mTk\u001b[0m\u001b[0;34m(\u001b[0m\u001b[0;34m)\u001b[0m\u001b[0;34m\u001b[0m\u001b[0;34m\u001b[0m\u001b[0m\n\u001b[0m\u001b[1;32m   1654\u001b[0m             \u001b[0mself\u001b[0m\u001b[0;34m.\u001b[0m\u001b[0m_parent\u001b[0m\u001b[0;34m.\u001b[0m\u001b[0mtitle\u001b[0m\u001b[0;34m(\u001b[0m\u001b[0;34m'NLTK'\u001b[0m\u001b[0;34m)\u001b[0m\u001b[0;34m\u001b[0m\u001b[0;34m\u001b[0m\u001b[0m\n\u001b[1;32m   1655\u001b[0m             \u001b[0mself\u001b[0m\u001b[0;34m.\u001b[0m\u001b[0m_parent\u001b[0m\u001b[0;34m.\u001b[0m\u001b[0mbind\u001b[0m\u001b[0;34m(\u001b[0m\u001b[0;34m'<Control-p>'\u001b[0m\u001b[0;34m,\u001b[0m \u001b[0;32mlambda\u001b[0m \u001b[0me\u001b[0m\u001b[0;34m:\u001b[0m \u001b[0mself\u001b[0m\u001b[0;34m.\u001b[0m\u001b[0mprint_to_file\u001b[0m\u001b[0;34m(\u001b[0m\u001b[0;34m)\u001b[0m\u001b[0;34m)\u001b[0m\u001b[0;34m\u001b[0m\u001b[0;34m\u001b[0m\u001b[0m\n",
            "\u001b[0;32m/usr/lib/python3.6/tkinter/__init__.py\u001b[0m in \u001b[0;36m__init__\u001b[0;34m(self, screenName, baseName, className, useTk, sync, use)\u001b[0m\n\u001b[1;32m   2021\u001b[0m                 \u001b[0mbaseName\u001b[0m \u001b[0;34m=\u001b[0m \u001b[0mbaseName\u001b[0m \u001b[0;34m+\u001b[0m \u001b[0mext\u001b[0m\u001b[0;34m\u001b[0m\u001b[0;34m\u001b[0m\u001b[0m\n\u001b[1;32m   2022\u001b[0m         \u001b[0minteractive\u001b[0m \u001b[0;34m=\u001b[0m \u001b[0;36m0\u001b[0m\u001b[0;34m\u001b[0m\u001b[0;34m\u001b[0m\u001b[0m\n\u001b[0;32m-> 2023\u001b[0;31m         \u001b[0mself\u001b[0m\u001b[0;34m.\u001b[0m\u001b[0mtk\u001b[0m \u001b[0;34m=\u001b[0m \u001b[0m_tkinter\u001b[0m\u001b[0;34m.\u001b[0m\u001b[0mcreate\u001b[0m\u001b[0;34m(\u001b[0m\u001b[0mscreenName\u001b[0m\u001b[0;34m,\u001b[0m \u001b[0mbaseName\u001b[0m\u001b[0;34m,\u001b[0m \u001b[0mclassName\u001b[0m\u001b[0;34m,\u001b[0m \u001b[0minteractive\u001b[0m\u001b[0;34m,\u001b[0m \u001b[0mwantobjects\u001b[0m\u001b[0;34m,\u001b[0m \u001b[0museTk\u001b[0m\u001b[0;34m,\u001b[0m \u001b[0msync\u001b[0m\u001b[0;34m,\u001b[0m \u001b[0muse\u001b[0m\u001b[0;34m)\u001b[0m\u001b[0;34m\u001b[0m\u001b[0;34m\u001b[0m\u001b[0m\n\u001b[0m\u001b[1;32m   2024\u001b[0m         \u001b[0;32mif\u001b[0m \u001b[0museTk\u001b[0m\u001b[0;34m:\u001b[0m\u001b[0;34m\u001b[0m\u001b[0;34m\u001b[0m\u001b[0m\n\u001b[1;32m   2025\u001b[0m             \u001b[0mself\u001b[0m\u001b[0;34m.\u001b[0m\u001b[0m_loadtk\u001b[0m\u001b[0;34m(\u001b[0m\u001b[0;34m)\u001b[0m\u001b[0;34m\u001b[0m\u001b[0;34m\u001b[0m\u001b[0m\n",
            "\u001b[0;31mTclError\u001b[0m: no display name and no $DISPLAY environment variable"
          ]
        },
        {
          "output_type": "execute_result",
          "data": {
            "text/plain": [
              "Tree('S', [('My', 'PRP$'), ('name', 'NN'), ('is', 'VBZ'), Tree('PERSON', [('Jacob', 'NNP'), ('Perkins', 'NNP')]), ('.', '.')])"
            ]
          },
          "metadata": {
            "tags": []
          },
          "execution_count": 9
        }
      ]
    },
    {
      "cell_type": "code",
      "metadata": {
        "id": "fVu4OD2KK5Nz",
        "colab_type": "code",
        "outputId": "f32255d0-30ce-4eb3-bfa0-3b0cfd3e7697",
        "colab": {
          "base_uri": "https://localhost:8080/",
          "height": 476
        }
      },
      "source": [
        "from nltk.sentiment.vader import SentimentIntensityAnalyzer \n",
        "nltk.download('vader_lexicon')\n",
        "\n",
        "\n",
        "hotel_rev = [\"Great place to be when you are in Bangalore.\",\n",
        "\"Service - Little slow, probably because too many people.\",\n",
        "\"The place is not easy to locate\",\n",
        "\"Mushroom fried rice was very good\"]\n",
        "\n",
        "print()\n",
        "  \n",
        "sid = SentimentIntensityAnalyzer()\n",
        "for sentence in hotel_rev:\n",
        "     print(sentence)\n",
        "     ss = sid.polarity_scores(sentence)\n",
        "     for k in ss:\n",
        "         print('{0}: {1}, '.format(k, ss[k]), end='\\n')\n",
        "     print()\n",
        "\n"
      ],
      "execution_count": 0,
      "outputs": [
        {
          "output_type": "stream",
          "text": [
            "[nltk_data] Downloading package vader_lexicon to /root/nltk_data...\n",
            "[nltk_data]   Package vader_lexicon is already up-to-date!\n",
            "\n",
            "Great place to be when you are in Bangalore.\n",
            "neg: 0.0, \n",
            "neu: 0.661, \n",
            "pos: 0.339, \n",
            "compound: 0.6249, \n",
            "\n",
            "Service - Little slow, probably because too many people.\n",
            "neg: 0.0, \n",
            "neu: 1.0, \n",
            "pos: 0.0, \n",
            "compound: 0.0, \n",
            "\n",
            "The place is not easy to locate\n",
            "neg: 0.286, \n",
            "neu: 0.714, \n",
            "pos: 0.0, \n",
            "compound: -0.3412, \n",
            "\n",
            "Mushroom fried rice was very good\n",
            "neg: 0.0, \n",
            "neu: 0.61, \n",
            "pos: 0.39, \n",
            "compound: 0.4927, \n",
            "\n"
          ],
          "name": "stdout"
        }
      ]
    },
    {
      "cell_type": "code",
      "metadata": {
        "id": "eRLnFfCSLeP_",
        "colab_type": "code",
        "colab": {}
      },
      "source": [
        ""
      ],
      "execution_count": 0,
      "outputs": []
    },
    {
      "cell_type": "code",
      "metadata": {
        "id": "M1WGtoAaLeed",
        "colab_type": "code",
        "colab": {}
      },
      "source": [
        ""
      ],
      "execution_count": 0,
      "outputs": []
    },
    {
      "cell_type": "markdown",
      "metadata": {
        "id": "M7_cbX1MP2V8",
        "colab_type": "text"
      },
      "source": [
        ""
      ]
    },
    {
      "cell_type": "markdown",
      "metadata": {
        "id": "HT7Z1o-_OMNU",
        "colab_type": "text"
      },
      "source": [
        "# **Some more examples of the basic functionality**"
      ]
    },
    {
      "cell_type": "code",
      "metadata": {
        "id": "gvZ6fUKOJGQ0",
        "colab_type": "code",
        "outputId": "5f861007-05d4-4bac-907a-c247f13eaaf6",
        "colab": {
          "base_uri": "https://localhost:8080/",
          "height": 1000
        }
      },
      "source": [
        "\n",
        "import nltk, sys\n",
        "nltk.download('book')\n",
        "\n",
        "from nltk.book import *\n",
        "from pprint import pprint\n",
        "\n",
        "print('\\n\\n')\n",
        "print(\"Length of text4\", len(text4))\n",
        "print(\"Type of text4\", type(text4))\n",
        "print(text4.tokens[:100])\n",
        "\n",
        "\n",
        "# contexts where a term appears\n",
        "print(text4.concordance('democracy'))\n",
        "\n",
        "# plot rate of occurrence over text corpus\n",
        "text4.dispersion_plot( [\"citizens\", \"democracy\", \"freedom\", \"duties\", \"America\"] )\n",
        "\n",
        "\n",
        "\n",
        "\n",
        "\n",
        "\n"
      ],
      "execution_count": 0,
      "outputs": [
        {
          "output_type": "stream",
          "text": [
            "[nltk_data] Downloading collection 'book'\n",
            "[nltk_data]    | \n",
            "[nltk_data]    | Downloading package abc to /root/nltk_data...\n",
            "[nltk_data]    |   Package abc is already up-to-date!\n",
            "[nltk_data]    | Downloading package brown to /root/nltk_data...\n",
            "[nltk_data]    |   Package brown is already up-to-date!\n",
            "[nltk_data]    | Downloading package chat80 to /root/nltk_data...\n",
            "[nltk_data]    |   Package chat80 is already up-to-date!\n",
            "[nltk_data]    | Downloading package cmudict to /root/nltk_data...\n",
            "[nltk_data]    |   Package cmudict is already up-to-date!\n",
            "[nltk_data]    | Downloading package conll2000 to /root/nltk_data...\n",
            "[nltk_data]    |   Package conll2000 is already up-to-date!\n",
            "[nltk_data]    | Downloading package conll2002 to /root/nltk_data...\n",
            "[nltk_data]    |   Package conll2002 is already up-to-date!\n",
            "[nltk_data]    | Downloading package dependency_treebank to\n",
            "[nltk_data]    |     /root/nltk_data...\n",
            "[nltk_data]    |   Package dependency_treebank is already up-to-date!\n",
            "[nltk_data]    | Downloading package genesis to /root/nltk_data...\n",
            "[nltk_data]    |   Package genesis is already up-to-date!\n",
            "[nltk_data]    | Downloading package gutenberg to /root/nltk_data...\n",
            "[nltk_data]    |   Package gutenberg is already up-to-date!\n",
            "[nltk_data]    | Downloading package ieer to /root/nltk_data...\n",
            "[nltk_data]    |   Package ieer is already up-to-date!\n",
            "[nltk_data]    | Downloading package inaugural to /root/nltk_data...\n",
            "[nltk_data]    |   Package inaugural is already up-to-date!\n",
            "[nltk_data]    | Downloading package movie_reviews to\n",
            "[nltk_data]    |     /root/nltk_data...\n",
            "[nltk_data]    |   Package movie_reviews is already up-to-date!\n",
            "[nltk_data]    | Downloading package nps_chat to /root/nltk_data...\n",
            "[nltk_data]    |   Package nps_chat is already up-to-date!\n",
            "[nltk_data]    | Downloading package names to /root/nltk_data...\n",
            "[nltk_data]    |   Package names is already up-to-date!\n",
            "[nltk_data]    | Downloading package ppattach to /root/nltk_data...\n",
            "[nltk_data]    |   Package ppattach is already up-to-date!\n",
            "[nltk_data]    | Downloading package reuters to /root/nltk_data...\n",
            "[nltk_data]    |   Package reuters is already up-to-date!\n",
            "[nltk_data]    | Downloading package senseval to /root/nltk_data...\n",
            "[nltk_data]    |   Package senseval is already up-to-date!\n",
            "[nltk_data]    | Downloading package state_union to /root/nltk_data...\n",
            "[nltk_data]    |   Package state_union is already up-to-date!\n",
            "[nltk_data]    | Downloading package stopwords to /root/nltk_data...\n",
            "[nltk_data]    |   Package stopwords is already up-to-date!\n",
            "[nltk_data]    | Downloading package swadesh to /root/nltk_data...\n",
            "[nltk_data]    |   Package swadesh is already up-to-date!\n",
            "[nltk_data]    | Downloading package timit to /root/nltk_data...\n",
            "[nltk_data]    |   Package timit is already up-to-date!\n",
            "[nltk_data]    | Downloading package treebank to /root/nltk_data...\n",
            "[nltk_data]    |   Package treebank is already up-to-date!\n",
            "[nltk_data]    | Downloading package toolbox to /root/nltk_data...\n",
            "[nltk_data]    |   Package toolbox is already up-to-date!\n",
            "[nltk_data]    | Downloading package udhr to /root/nltk_data...\n",
            "[nltk_data]    |   Package udhr is already up-to-date!\n",
            "[nltk_data]    | Downloading package udhr2 to /root/nltk_data...\n",
            "[nltk_data]    |   Package udhr2 is already up-to-date!\n",
            "[nltk_data]    | Downloading package unicode_samples to\n",
            "[nltk_data]    |     /root/nltk_data...\n",
            "[nltk_data]    |   Package unicode_samples is already up-to-date!\n",
            "[nltk_data]    | Downloading package webtext to /root/nltk_data...\n",
            "[nltk_data]    |   Package webtext is already up-to-date!\n",
            "[nltk_data]    | Downloading package wordnet to /root/nltk_data...\n",
            "[nltk_data]    |   Package wordnet is already up-to-date!\n",
            "[nltk_data]    | Downloading package wordnet_ic to /root/nltk_data...\n",
            "[nltk_data]    |   Package wordnet_ic is already up-to-date!\n",
            "[nltk_data]    | Downloading package words to /root/nltk_data...\n",
            "[nltk_data]    |   Package words is already up-to-date!\n",
            "[nltk_data]    | Downloading package maxent_treebank_pos_tagger to\n",
            "[nltk_data]    |     /root/nltk_data...\n",
            "[nltk_data]    |   Package maxent_treebank_pos_tagger is already up-\n",
            "[nltk_data]    |       to-date!\n",
            "[nltk_data]    | Downloading package maxent_ne_chunker to\n",
            "[nltk_data]    |     /root/nltk_data...\n",
            "[nltk_data]    |   Package maxent_ne_chunker is already up-to-date!\n",
            "[nltk_data]    | Downloading package universal_tagset to\n",
            "[nltk_data]    |     /root/nltk_data...\n",
            "[nltk_data]    |   Package universal_tagset is already up-to-date!\n",
            "[nltk_data]    | Downloading package punkt to /root/nltk_data...\n",
            "[nltk_data]    |   Package punkt is already up-to-date!\n",
            "[nltk_data]    | Downloading package book_grammars to\n",
            "[nltk_data]    |     /root/nltk_data...\n",
            "[nltk_data]    |   Package book_grammars is already up-to-date!\n",
            "[nltk_data]    | Downloading package city_database to\n",
            "[nltk_data]    |     /root/nltk_data...\n",
            "[nltk_data]    |   Package city_database is already up-to-date!\n",
            "[nltk_data]    | Downloading package tagsets to /root/nltk_data...\n",
            "[nltk_data]    |   Package tagsets is already up-to-date!\n",
            "[nltk_data]    | Downloading package panlex_swadesh to\n",
            "[nltk_data]    |     /root/nltk_data...\n",
            "[nltk_data]    |   Package panlex_swadesh is already up-to-date!\n",
            "[nltk_data]    | Downloading package averaged_perceptron_tagger to\n",
            "[nltk_data]    |     /root/nltk_data...\n",
            "[nltk_data]    |   Package averaged_perceptron_tagger is already up-\n",
            "[nltk_data]    |       to-date!\n",
            "[nltk_data]    | \n",
            "[nltk_data]  Done downloading collection book\n",
            "\n",
            "\n",
            "\n",
            "Length of text4 149797\n",
            "Type of text4 <class 'nltk.text.Text'>\n",
            "['Fellow', '-', 'Citizens', 'of', 'the', 'Senate', 'and', 'of', 'the', 'House', 'of', 'Representatives', ':', 'Among', 'the', 'vicissitudes', 'incident', 'to', 'life', 'no', 'event', 'could', 'have', 'filled', 'me', 'with', 'greater', 'anxieties', 'than', 'that', 'of', 'which', 'the', 'notification', 'was', 'transmitted', 'by', 'your', 'order', ',', 'and', 'received', 'on', 'the', '14th', 'day', 'of', 'the', 'present', 'month', '.', 'On', 'the', 'one', 'hand', ',', 'I', 'was', 'summoned', 'by', 'my', 'Country', ',', 'whose', 'voice', 'I', 'can', 'never', 'hear', 'but', 'with', 'veneration', 'and', 'love', ',', 'from', 'a', 'retreat', 'which', 'I', 'had', 'chosen', 'with', 'the', 'fondest', 'predilection', ',', 'and', ',', 'in', 'my', 'flattering', 'hopes', ',', 'with', 'an', 'immutable', 'decision', ',', 'as']\n",
            "Displaying 25 of 60 matches:\n",
            "ther a confederated representative democracy were a government competent to the\n",
            "sions of government but to that of democracy . If such is its theory , those wh\n",
            "r ideas of a simple representative democracy or republic , and knowing the tend\n",
            " of their country . In the name of democracy they speak , warning the people ag\n",
            "unusual professions of devotion to democracy . The foregoing remarks relate alm\n",
            " unshaken temple of representative democracy , to be not only an inspiration an\n",
            " reflects the glory of new - world democracy , but in the new order of finance \n",
            "he righteousness of representative democracy , where our freedom never has made\n",
            " with the ideals of representative democracy , when one portion of our citizens\n",
            "TY RESPONSIBILITIES In our form of democracy the expression of the popular will\n",
            "t distrust the future of essential democracy . The people of the United States \n",
            "mes require , without yielding its democracy . Our tasks in the last four years\n",
            " the last four years did not force democracy to take a holiday . Nearly all of \n",
            "; power to do good . The essential democracy of our Nation and the safety of ou\n",
            "stitution of 1787 did not make our democracy impotent . In fact , in these last\n",
            "bove and beyond the processes of a democracy -- has been shattered . They have \n",
            "ong men of good will , science and democracy together offer an ever - richer li\n",
            ". But here is the challenge to our democracy : In this nation I see tens of mil\n",
            "wn , as one people . To maintain a democracy of effort requires a vast amount o\n",
            "s . There are men who believe that democracy , as a form of Government and a fr\n",
            "itful years for the people of this democracy . For they have brought to us grea\n",
            "our future is this experience of a democracy which successfully survived crisis\n",
            "t all , maintained the fact of its democracy . For action has been taken within\n",
            "ophets of the downfall of American democracy have seen their dire predictions c\n",
            " dire predictions come to naught . Democracy is not dying . We know it because \n",
            "None\n"
          ],
          "name": "stdout"
        },
        {
          "output_type": "display_data",
          "data": {
            "image/png": "[encoded data removed]",
            "text/plain": [
              "<Figure size 432x288 with 1 Axes>"
            ]
          },
          "metadata": {
            "tags": []
          }
        },
        {
          "output_type": "display_data",
          "data": {
            "image/png": "[encoded data removed]",
            "text/plain": [
              "<Figure size 432x288 with 1 Axes>"
            ]
          },
          "metadata": {
            "tags": []
          }
        },
        {
          "output_type": "display_data",
          "data": {
            "image/png": "[encoded data removed]",
            "text/plain": [
              "<Figure size 432x288 with 1 Axes>"
            ]
          },
          "metadata": {
            "tags": []
          }
        },
        {
          "output_type": "stream",
          "text": [
            "would like; medium build; social drinker; quiet nights; non smoker;\n",
            "long term; age open; Would like; easy going; financially secure; fun\n",
            "times; similar interests; Age open; weekends away; poss rship; well\n",
            "presented; never married; single mum; permanent relationship; slim\n",
            "build\n",
            "None\n",
            "[nltk_data] Downloading package gutenberg to /root/nltk_data...\n",
            "[nltk_data]   Package gutenberg is already up-to-date!\n",
            "Displaying 25 of 37 matches:\n",
            "er father , was sometimes taken by surprize at his being still able to pity ` \n",
            "hem do the other any good .\" \" You surprize me ! Emma must do Harriet good : a\n",
            "Knightley actually looked red with surprize and displeasure , as he stood up ,\n",
            "r . Elton , and found to his great surprize , that Mr . Elton was actually on \n",
            "d aid .\" Emma saw Mrs . Weston ' s surprize , and felt that it must be great ,\n",
            "father was quite taken up with the surprize of so sudden a journey , and his f\n",
            "y , in all the favouring warmth of surprize and conjecture . She was , moreove\n",
            "he appeared , to have her share of surprize , introduction , and pleasure . Th\n",
            "ir plans ; and it was an agreeable surprize to her , therefore , to perceive t\n",
            "talking aunt had taken me quite by surprize , it must have been the death of m\n",
            "f all the dialogue which ensued of surprize , and inquiry , and congratulation\n",
            " the present . They might chuse to surprize her .\" Mrs . Cole had many to agre\n",
            "the mode of it , the mystery , the surprize , is more like a young woman ' s s\n",
            " to her song took her agreeably by surprize -- a second , slightly but correct\n",
            "\" \" Oh ! no -- there is nothing to surprize one at all .-- A pretty fortune ; \n",
            "t to be considered . Emma ' s only surprize was that Jane Fairfax should accep\n",
            "of your admiration may take you by surprize some day or other .\" Mr . Knightle\n",
            "ation for her will ever take me by surprize .-- I never had a thought of her i\n",
            " expected by the best judges , for surprize -- but there was great joy . Mr . \n",
            " sound of at first , without great surprize . \" So unreasonably early !\" she w\n",
            "d Frank Churchill , with a look of surprize and displeasure .-- \" That is easy\n",
            "; and Emma could imagine with what surprize and mortification she must be retu\n",
            "tled that Jane should go . Quite a surprize to me ! I had not the least idea !\n",
            " . It is impossible to express our surprize . He came to speak to his father o\n",
            "g engaged !\" Emma even jumped with surprize ;-- and , horror - struck , exclai\n",
            "None\n",
            "112310\n"
          ],
          "name": "stdout"
        }
      ]
    },
    {
      "cell_type": "code",
      "metadata": {
        "id": "fsVehNTOPIqW",
        "colab_type": "code",
        "outputId": "5502c6d0-eace-4372-8b07-43f8042f4844",
        "colab": {
          "base_uri": "https://localhost:8080/",
          "height": 673
        }
      },
      "source": [
        "## NLTK FreqDist\n",
        "fdist1 = FreqDist(text1)\n",
        "fdist1.most_common(20) \n",
        "\n",
        "fdist1.plot(20, cumulative=True)\n",
        "fdist1.plot(20, cumulative=False)\n",
        "\n",
        "print(text8.collocations())"
      ],
      "execution_count": 0,
      "outputs": [
        {
          "output_type": "display_data",
          "data": {
            "image/png": "[encoded data removed]",
            "text/plain": [
              "<Figure size 432x288 with 1 Axes>"
            ]
          },
          "metadata": {
            "tags": []
          }
        },
        {
          "output_type": "display_data",
          "data": {
            "image/png": "[encoded data removed]",
            "text/plain": [
              "<Figure size 432x288 with 1 Axes>"
            ]
          },
          "metadata": {
            "tags": []
          }
        },
        {
          "output_type": "stream",
          "text": [
            "would like; medium build; social drinker; quiet nights; non smoker;\n",
            "long term; age open; Would like; easy going; financially secure; fun\n",
            "times; similar interests; Age open; weekends away; poss rship; well\n",
            "presented; never married; single mum; permanent relationship; slim\n",
            "build\n",
            "None\n"
          ],
          "name": "stdout"
        }
      ]
    },
    {
      "cell_type": "code",
      "metadata": {
        "id": "CL595-uQPCVE",
        "colab_type": "code",
        "outputId": "5ca3dfb2-d5ab-4ff0-97be-a2117add38fc",
        "colab": {
          "base_uri": "https://localhost:8080/",
          "height": 527
        }
      },
      "source": [
        "nltk.download(\"gutenberg\")\n",
        "nltk.corpus.gutenberg.fileids()\n",
        "\n",
        "emma = nltk.Text(nltk.corpus.gutenberg.words('austen-emma.txt'))\n",
        "print(emma.concordance(\"surprize\"))\n",
        "\n",
        "gutenberg.raw('shakespeare-caesar.txt')\n",
        "print(len( gutenberg.raw('shakespeare-caesar.txt') ))"
      ],
      "execution_count": 0,
      "outputs": [
        {
          "output_type": "stream",
          "text": [
            "[nltk_data] Downloading package gutenberg to /root/nltk_data...\n",
            "[nltk_data]   Package gutenberg is already up-to-date!\n",
            "Displaying 25 of 37 matches:\n",
            "er father , was sometimes taken by surprize at his being still able to pity ` \n",
            "hem do the other any good .\" \" You surprize me ! Emma must do Harriet good : a\n",
            "Knightley actually looked red with surprize and displeasure , as he stood up ,\n",
            "r . Elton , and found to his great surprize , that Mr . Elton was actually on \n",
            "d aid .\" Emma saw Mrs . Weston ' s surprize , and felt that it must be great ,\n",
            "father was quite taken up with the surprize of so sudden a journey , and his f\n",
            "y , in all the favouring warmth of surprize and conjecture . She was , moreove\n",
            "he appeared , to have her share of surprize , introduction , and pleasure . Th\n",
            "ir plans ; and it was an agreeable surprize to her , therefore , to perceive t\n",
            "talking aunt had taken me quite by surprize , it must have been the death of m\n",
            "f all the dialogue which ensued of surprize , and inquiry , and congratulation\n",
            " the present . They might chuse to surprize her .\" Mrs . Cole had many to agre\n",
            "the mode of it , the mystery , the surprize , is more like a young woman ' s s\n",
            " to her song took her agreeably by surprize -- a second , slightly but correct\n",
            "\" \" Oh ! no -- there is nothing to surprize one at all .-- A pretty fortune ; \n",
            "t to be considered . Emma ' s only surprize was that Jane Fairfax should accep\n",
            "of your admiration may take you by surprize some day or other .\" Mr . Knightle\n",
            "ation for her will ever take me by surprize .-- I never had a thought of her i\n",
            " expected by the best judges , for surprize -- but there was great joy . Mr . \n",
            " sound of at first , without great surprize . \" So unreasonably early !\" she w\n",
            "d Frank Churchill , with a look of surprize and displeasure .-- \" That is easy\n",
            "; and Emma could imagine with what surprize and mortification she must be retu\n",
            "tled that Jane should go . Quite a surprize to me ! I had not the least idea !\n",
            " . It is impossible to express our surprize . He came to speak to his father o\n",
            "g engaged !\" Emma even jumped with surprize ;-- and , horror - struck , exclai\n",
            "None\n",
            "112310\n"
          ],
          "name": "stdout"
        }
      ]
    },
    {
      "cell_type": "code",
      "metadata": {
        "id": "KFSDyPWXPQ7a",
        "colab_type": "code",
        "outputId": "f4eb968a-5b58-4927-bb08-4ac2bd4b7a3f",
        "colab": {
          "base_uri": "https://localhost:8080/",
          "height": 408
        }
      },
      "source": [
        "!pip install deepcut\n"
      ],
      "execution_count": 0,
      "outputs": [
        {
          "output_type": "stream",
          "text": [
            "Collecting deepcut\n",
            "\u001b[?25l  Downloading https://files.pythonhosted.org/packages/c0/30/53a4109fca052b0f69cdb49762f418767b5c09fd3640bbb07810e9b2e71a/deepcut-0.6.1.0.tar.gz (2.0MB)\n",
            "\u001b[K     |████████████████████████████████| 2.0MB 4.8MB/s \n",
            "\u001b[?25hRequirement already satisfied: keras>=2.0.0 in /usr/local/lib/python3.6/dist-packages (from deepcut) (2.2.4)\n",
            "Requirement already satisfied: pandas in /usr/local/lib/python3.6/dist-packages (from deepcut) (0.24.2)\n",
            "Requirement already satisfied: scipy in /usr/local/lib/python3.6/dist-packages (from deepcut) (1.3.1)\n",
            "Requirement already satisfied: numpy in /usr/local/lib/python3.6/dist-packages (from deepcut) (1.16.4)\n",
            "Requirement already satisfied: scikit-learn in /usr/local/lib/python3.6/dist-packages (from deepcut) (0.21.3)\n",
            "Requirement already satisfied: h5py in /usr/local/lib/python3.6/dist-packages (from deepcut) (2.8.0)\n",
            "Requirement already satisfied: keras-applications>=1.0.6 in /usr/local/lib/python3.6/dist-packages (from keras>=2.0.0->deepcut) (1.0.8)\n",
            "Requirement already satisfied: keras-preprocessing>=1.0.5 in /usr/local/lib/python3.6/dist-packages (from keras>=2.0.0->deepcut) (1.1.0)\n",
            "Requirement already satisfied: six>=1.9.0 in /usr/local/lib/python3.6/dist-packages (from keras>=2.0.0->deepcut) (1.12.0)\n",
            "Requirement already satisfied: pyyaml in /usr/local/lib/python3.6/dist-packages (from keras>=2.0.0->deepcut) (3.13)\n",
            "Requirement already satisfied: pytz>=2011k in /usr/local/lib/python3.6/dist-packages (from pandas->deepcut) (2018.9)\n",
            "Requirement already satisfied: python-dateutil>=2.5.0 in /usr/local/lib/python3.6/dist-packages (from pandas->deepcut) (2.5.3)\n",
            "Requirement already satisfied: joblib>=0.11 in /usr/local/lib/python3.6/dist-packages (from scikit-learn->deepcut) (0.13.2)\n",
            "Building wheels for collected packages: deepcut\n",
            "  Building wheel for deepcut (setup.py) ... \u001b[?25l\u001b[?25hdone\n",
            "  Created wheel for deepcut: filename=deepcut-0.6.1.0-cp36-none-any.whl size=2010527 sha256=512b8cb083b9821d369ccddcb16278bf513720975a7868ee4ba6b07d8c1c80a5\n",
            "  Stored in directory: /root/.cache/pip/wheels/4a/01/e0/7e93820628b45ac21db97398b0475a6df7772d1f274f7d0878\n",
            "Successfully built deepcut\n",
            "Installing collected packages: deepcut\n",
            "Successfully installed deepcut-0.6.1.0\n"
          ],
          "name": "stdout"
        }
      ]
    },
    {
      "cell_type": "markdown",
      "metadata": {
        "id": "KfZbI-iORHF1",
        "colab_type": "text"
      },
      "source": [
        "# NLP for Thai\n",
        "# **pythainlp**"
      ]
    },
    {
      "cell_type": "code",
      "metadata": {
        "id": "-7_5z5CiPyjW",
        "colab_type": "code",
        "outputId": "d7eebea1-241a-4735-e2e6-66c4152452de",
        "colab": {
          "base_uri": "https://localhost:8080/",
          "height": 462
        }
      },
      "source": [
        "!pip install pythainlp\n"
      ],
      "execution_count": 0,
      "outputs": [
        {
          "output_type": "stream",
          "text": [
            "Collecting pythainlp\n",
            "\u001b[?25l  Downloading https://files.pythonhosted.org/packages/37/94/1ca5c23bfdbc0f27fa26e5eeda47d8ff422cbbd3f38c0b8a160fa17a2583/pythainlp-2.0.7-py3-none-any.whl (11.0MB)\n",
            "\u001b[K     |████████████████████████████████| 11.0MB 4.2MB/s \n",
            "\u001b[?25hCollecting tinydb (from pythainlp)\n",
            "  Downloading https://files.pythonhosted.org/packages/d7/f9/0e871cbf0da678cf1780609dc6aef26a5ed544c86733fc1ceaf134fce52c/tinydb-3.13.0-py2.py3-none-any.whl\n",
            "Collecting marisa-trie (from pythainlp)\n",
            "\u001b[?25l  Downloading https://files.pythonhosted.org/packages/20/95/d23071d0992dabcb61c948fb118a90683193befc88c23e745b050a29e7db/marisa-trie-0.7.5.tar.gz (270kB)\n",
            "\u001b[K     |████████████████████████████████| 276kB 43.9MB/s \n",
            "\u001b[?25hRequirement already satisfied: tqdm in /usr/local/lib/python3.6/dist-packages (from pythainlp) (4.28.1)\n",
            "Requirement already satisfied: pytz in /usr/local/lib/python3.6/dist-packages (from pythainlp) (2018.9)\n",
            "Requirement already satisfied: requests in /usr/local/lib/python3.6/dist-packages (from pythainlp) (2.21.0)\n",
            "Requirement already satisfied: nltk>=3.2.2 in /usr/local/lib/python3.6/dist-packages (from pythainlp) (3.2.5)\n",
            "Requirement already satisfied: dill in /usr/local/lib/python3.6/dist-packages (from pythainlp) (0.3.0)\n",
            "Requirement already satisfied: chardet<3.1.0,>=3.0.2 in /usr/local/lib/python3.6/dist-packages (from requests->pythainlp) (3.0.4)\n",
            "Requirement already satisfied: certifi>=2017.4.17 in /usr/local/lib/python3.6/dist-packages (from requests->pythainlp) (2019.6.16)\n",
            "Requirement already satisfied: urllib3<1.25,>=1.21.1 in /usr/local/lib/python3.6/dist-packages (from requests->pythainlp) (1.24.3)\n",
            "Requirement already satisfied: idna<2.9,>=2.5 in /usr/local/lib/python3.6/dist-packages (from requests->pythainlp) (2.8)\n",
            "Requirement already satisfied: six in /usr/local/lib/python3.6/dist-packages (from nltk>=3.2.2->pythainlp) (1.12.0)\n",
            "Building wheels for collected packages: marisa-trie\n",
            "  Building wheel for marisa-trie (setup.py) ... \u001b[?25l\u001b[?25hdone\n",
            "  Created wheel for marisa-trie: filename=marisa_trie-0.7.5-cp36-cp36m-linux_x86_64.whl size=861221 sha256=3451ba9aa2750d66a5d7dbb10b9f80143b766acc0f0f09ac303eefb8483edb7a\n",
            "  Stored in directory: /root/.cache/pip/wheels/45/24/79/022624fc914f0e559fe8a1141aaff1f9df810905a13fc75d57\n",
            "Successfully built marisa-trie\n",
            "Installing collected packages: tinydb, marisa-trie, pythainlp\n",
            "Successfully installed marisa-trie-0.7.5 pythainlp-2.0.7 tinydb-3.13.0\n"
          ],
          "name": "stdout"
        }
      ]
    },
    {
      "cell_type": "code",
      "metadata": {
        "id": "4-jg7dIrRUzd",
        "colab_type": "code",
        "outputId": "d6dbea2f-959c-4dda-8848-125857e3d022",
        "colab": {
          "base_uri": "https://localhost:8080/",
          "height": 34
        }
      },
      "source": [
        "import pythainlp\n",
        "pythainlp.thai_characters"
      ],
      "execution_count": 0,
      "outputs": [
        {
          "output_type": "execute_result",
          "data": {
            "text/plain": [
              "'กขฃคฅฆงจฉชซฌญฎฏฐฑฒณดตถทธนบปผฝพฟภมยรลวศษสหฬอฮฤฦะัาำิีึืุูเแโใไๅ็่้๊๋ฯๆฺ์ํ๎๏๚๛๐๑๒๓๔๕๖๗๘๙฿'"
            ]
          },
          "metadata": {
            "tags": []
          },
          "execution_count": 31
        }
      ]
    },
    {
      "cell_type": "code",
      "metadata": {
        "id": "BkVYAPtFRq1g",
        "colab_type": "code",
        "outputId": "a15c750b-20ce-4cd3-e9e4-ecc95ea36f41",
        "colab": {
          "base_uri": "https://localhost:8080/",
          "height": 34
        }
      },
      "source": [
        "\"๔\" in pythainlp.thai_digits\n"
      ],
      "execution_count": 0,
      "outputs": [
        {
          "output_type": "execute_result",
          "data": {
            "text/plain": [
              "True"
            ]
          },
          "metadata": {
            "tags": []
          },
          "execution_count": 32
        }
      ]
    },
    {
      "cell_type": "code",
      "metadata": {
        "id": "hpeIpJYBRrBc",
        "colab_type": "code",
        "outputId": "b16dd282-c469-41b7-ca7d-53e5962ef131",
        "colab": {
          "base_uri": "https://localhost:8080/",
          "height": 34
        }
      },
      "source": [
        "import pythainlp.util\n",
        "\n",
        "pythainlp.util.isthai(\"ก\")"
      ],
      "execution_count": 0,
      "outputs": [
        {
          "output_type": "execute_result",
          "data": {
            "text/plain": [
              "False"
            ]
          },
          "metadata": {
            "tags": []
          },
          "execution_count": 34
        }
      ]
    },
    {
      "cell_type": "code",
      "metadata": {
        "id": "oa6ikbH5RrE6",
        "colab_type": "code",
        "outputId": "950a2b27-09f6-40df-c61a-a905f64d6cdb",
        "colab": {
          "base_uri": "https://localhost:8080/",
          "height": 68
        }
      },
      "source": [
        "from pythainlp import sent_tokenize, word_tokenize\n",
        "\n",
        "text = \"ฉันรักภาษาไทย เพราะฉันใช้ภาษาไทย \"\n",
        "\n",
        "print(\"sent_tokenize:\", sent_tokenize(text))\n",
        "print(\"word_tokenize:\", word_tokenize(text))\n",
        "print(\"word_tokenize, without whitespace:\", word_tokenize(text, keep_whitespace=False))"
      ],
      "execution_count": 0,
      "outputs": [
        {
          "output_type": "stream",
          "text": [
            "sent_tokenize: ['ฉันรักภาษาไทย', 'เพราะฉันใช้ภาษาไทย']\n",
            "word_tokenize: ['ฉัน', 'รัก', 'ภาษาไทย', ' ', 'เพราะ', 'ฉัน', 'ใช้', 'ภาษาไทย', ' ']\n",
            "word_tokenize, without whitespace: ['ฉัน', 'รัก', 'ภาษาไทย', 'เพราะ', 'ฉัน', 'ใช้', 'ภาษาไทย']\n"
          ],
          "name": "stdout"
        }
      ]
    },
    {
      "cell_type": "code",
      "metadata": {
        "id": "G_suLj0NRrIA",
        "colab_type": "code",
        "outputId": "878162c3-90bc-4ad6-8778-0b38ded25adb",
        "colab": {
          "base_uri": "https://localhost:8080/",
          "height": 34
        }
      },
      "source": [
        "from pythainlp.transliterate import romanize\n",
        "\n",
        "romanize(\"แมว\")"
      ],
      "execution_count": 0,
      "outputs": [
        {
          "output_type": "execute_result",
          "data": {
            "text/plain": [
              "'maeo'"
            ]
          },
          "metadata": {
            "tags": []
          },
          "execution_count": 36
        }
      ]
    },
    {
      "cell_type": "code",
      "metadata": {
        "id": "-yx7u0HWRrOP",
        "colab_type": "code",
        "outputId": "e9ff0cd8-e9c0-4f60-e0e7-e73cb32acc87",
        "colab": {
          "base_uri": "https://localhost:8080/",
          "height": 34
        }
      },
      "source": [
        "from pythainlp.tag import pos_tag, pos_tag_sents\n",
        "\n",
        "pos_tag([\"การ\",\"เดินทาง\"])\n"
      ],
      "execution_count": 0,
      "outputs": [
        {
          "output_type": "execute_result",
          "data": {
            "text/plain": [
              "[('การ', 'FIXN'), ('เดินทาง', 'VACT')]"
            ]
          },
          "metadata": {
            "tags": []
          },
          "execution_count": 39
        }
      ]
    },
    {
      "cell_type": "code",
      "metadata": {
        "id": "EcP_y6shRrRl",
        "colab_type": "code",
        "outputId": "51e140c0-c9a0-4cf3-8125-31c9e3e773a2",
        "colab": {
          "base_uri": "https://localhost:8080/",
          "height": 751
        }
      },
      "source": [
        "!pip install sklearn-crfsuite\n",
        "from pythainlp.tag.named_entity import ThaiNameTagger\n",
        "\n",
        "ner = ThaiNameTagger()\n",
        "ner.get_ner(\"15 ก.ย. 61 ทดสอบระบบเวลา 14:49 น. เดินทางจากกทม.ไปจังหวัดกำแพงเพชร ตั๋วราคา 297 บาท\")"
      ],
      "execution_count": 0,
      "outputs": [
        {
          "output_type": "stream",
          "text": [
            "Collecting sklearn-crfsuite\n",
            "  Downloading https://files.pythonhosted.org/packages/25/74/5b7befa513482e6dee1f3dd68171a6c9dfc14c0eaa00f885ffeba54fe9b0/sklearn_crfsuite-0.3.6-py2.py3-none-any.whl\n",
            "Requirement already satisfied: tabulate in /usr/local/lib/python3.6/dist-packages (from sklearn-crfsuite) (0.8.3)\n",
            "Collecting python-crfsuite>=0.8.3 (from sklearn-crfsuite)\n",
            "\u001b[?25l  Downloading https://files.pythonhosted.org/packages/2f/86/cfcd71edca9d25d3d331209a20f6314b6f3f134c29478f90559cee9ce091/python_crfsuite-0.9.6-cp36-cp36m-manylinux1_x86_64.whl (754kB)\n",
            "\u001b[K     |████████████████████████████████| 757kB 6.9MB/s \n",
            "\u001b[?25hRequirement already satisfied: six in /usr/local/lib/python3.6/dist-packages (from sklearn-crfsuite) (1.12.0)\n",
            "Requirement already satisfied: tqdm>=2.0 in /usr/local/lib/python3.6/dist-packages (from sklearn-crfsuite) (4.28.1)\n",
            "Installing collected packages: python-crfsuite, sklearn-crfsuite\n",
            "Successfully installed python-crfsuite-0.9.6 sklearn-crfsuite-0.3.6\n",
            "Download: thainer-1-2\n",
            "thainer-1-2 1.2\n"
          ],
          "name": "stdout"
        },
        {
          "output_type": "stream",
          "text": [
            "data.model?raw=true: 1.89MB [00:00, 3.09MB/s]                            \n"
          ],
          "name": "stderr"
        },
        {
          "output_type": "execute_result",
          "data": {
            "text/plain": [
              "[('15', 'NUM', 'O'),\n",
              " (' ', 'PUNCT', 'O'),\n",
              " ('ก.ย.', 'NOUN', 'B-DATE'),\n",
              " (' ', 'PUNCT', 'I-DATE'),\n",
              " ('61', 'NUM', 'I-DATE'),\n",
              " (' ', 'PUNCT', 'O'),\n",
              " ('ทดสอบ', 'VERB', 'O'),\n",
              " ('ระบบ', 'NOUN', 'O'),\n",
              " ('เวลา', 'NOUN', 'O'),\n",
              " (' ', 'PUNCT', 'O'),\n",
              " ('14', 'NOUN', 'B-TIME'),\n",
              " (':', 'PUNCT', 'I-TIME'),\n",
              " ('49', 'NUM', 'I-TIME'),\n",
              " (' ', 'PUNCT', 'I-TIME'),\n",
              " ('น.', 'NOUN', 'I-TIME'),\n",
              " (' ', 'PUNCT', 'O'),\n",
              " ('เดินทาง', 'VERB', 'O'),\n",
              " ('จาก', 'ADP', 'O'),\n",
              " ('กทม.', 'NOUN', 'B-LOCATION'),\n",
              " ('ไป', 'AUX', 'O'),\n",
              " ('จังหวัด', 'NOUN', 'B-LOCATION'),\n",
              " ('กำแพงเพชร', 'NOUN', 'I-LOCATION'),\n",
              " (' ', 'PUNCT', 'O'),\n",
              " ('ตั๋ว', 'NOUN', 'O'),\n",
              " ('ราคา', 'NOUN', 'O'),\n",
              " (' ', 'PUNCT', 'O'),\n",
              " ('297', 'NUM', 'B-MONEY'),\n",
              " (' ', 'PUNCT', 'I-MONEY'),\n",
              " ('บาท', 'NOUN', 'I-MONEY')]"
            ]
          },
          "metadata": {
            "tags": []
          },
          "execution_count": 42
        }
      ]
    },
    {
      "cell_type": "code",
      "metadata": {
        "id": "d3aDj1XDRrU2",
        "colab_type": "code",
        "outputId": "bb8070b9-4c2c-406f-cecd-5550ab238555",
        "colab": {
          "base_uri": "https://localhost:8080/",
          "height": 173
        }
      },
      "source": [
        "import pythainlp.word_vector\n",
        "\n",
        "pythainlp.word_vector.similarity(\"คน\", \"มนุษย์\")"
      ],
      "execution_count": 0,
      "outputs": [
        {
          "output_type": "stream",
          "text": [
            "Download: thai2fit_wv\n",
            "thai2fit_wv 0.1\n"
          ],
          "name": "stdout"
        },
        {
          "output_type": "stream",
          "text": [
            "thai2vec.bin?dl=1: 62.5MB [00:02, 23.0MB/s]                            \n",
            "/usr/local/lib/python3.6/dist-packages/smart_open/smart_open_lib.py:398: UserWarning: This function is deprecated, use smart_open.open instead. See the migration notes for details: https://github.com/RaRe-Technologies/smart_open/blob/master/README.rst#migrating-to-the-new-open-function\n",
            "  'See the migration notes for details: %s' % _MIGRATION_NOTES_URL\n",
            "/usr/local/lib/python3.6/dist-packages/gensim/matutils.py:737: FutureWarning: Conversion of the second argument of issubdtype from `int` to `np.signedinteger` is deprecated. In future, it will be treated as `np.int64 == np.dtype(int).type`.\n",
            "  if np.issubdtype(vec.dtype, np.int):\n"
          ],
          "name": "stderr"
        },
        {
          "output_type": "execute_result",
          "data": {
            "text/plain": [
              "0.2504981"
            ]
          },
          "metadata": {
            "tags": []
          },
          "execution_count": 43
        }
      ]
    },
    {
      "cell_type": "markdown",
      "metadata": {
        "id": "vzXviseWToVO",
        "colab_type": "text"
      },
      "source": [
        "# **deepcut**\n",
        "state-of-the-art tokenizer"
      ]
    },
    {
      "cell_type": "code",
      "metadata": {
        "id": "8UfkIkSjRrL1",
        "colab_type": "code",
        "outputId": "ec6bf850-859d-4881-a1e0-8f8631e837c0",
        "colab": {
          "base_uri": "https://localhost:8080/",
          "height": 428
        }
      },
      "source": [
        "!pip install deepcut"
      ],
      "execution_count": 0,
      "outputs": [
        {
          "output_type": "stream",
          "text": [
            "Collecting deepcut\n",
            "\u001b[?25l  Downloading https://files.pythonhosted.org/packages/c0/30/53a4109fca052b0f69cdb49762f418767b5c09fd3640bbb07810e9b2e71a/deepcut-0.6.1.0.tar.gz (2.0MB)\n",
            "\u001b[K     |████████████████████████████████| 2.0MB 4.9MB/s \n",
            "\u001b[?25hRequirement already satisfied: keras>=2.0.0 in /usr/local/lib/python3.6/dist-packages (from deepcut) (2.2.4)\n",
            "Requirement already satisfied: pandas in /usr/local/lib/python3.6/dist-packages (from deepcut) (0.24.2)\n",
            "Requirement already satisfied: scipy in /usr/local/lib/python3.6/dist-packages (from deepcut) (1.3.1)\n",
            "Requirement already satisfied: numpy in /usr/local/lib/python3.6/dist-packages (from deepcut) (1.16.4)\n",
            "Requirement already satisfied: scikit-learn in /usr/local/lib/python3.6/dist-packages (from deepcut) (0.21.3)\n",
            "Requirement already satisfied: h5py in /usr/local/lib/python3.6/dist-packages (from deepcut) (2.8.0)\n",
            "Requirement already satisfied: keras-preprocessing>=1.0.5 in /usr/local/lib/python3.6/dist-packages (from keras>=2.0.0->deepcut) (1.1.0)\n",
            "Requirement already satisfied: six>=1.9.0 in /usr/local/lib/python3.6/dist-packages (from keras>=2.0.0->deepcut) (1.12.0)\n",
            "Requirement already satisfied: pyyaml in /usr/local/lib/python3.6/dist-packages (from keras>=2.0.0->deepcut) (3.13)\n",
            "Requirement already satisfied: keras-applications>=1.0.6 in /usr/local/lib/python3.6/dist-packages (from keras>=2.0.0->deepcut) (1.0.8)\n",
            "Requirement already satisfied: python-dateutil>=2.5.0 in /usr/local/lib/python3.6/dist-packages (from pandas->deepcut) (2.5.3)\n",
            "Requirement already satisfied: pytz>=2011k in /usr/local/lib/python3.6/dist-packages (from pandas->deepcut) (2018.9)\n",
            "Requirement already satisfied: joblib>=0.11 in /usr/local/lib/python3.6/dist-packages (from scikit-learn->deepcut) (0.13.2)\n",
            "Building wheels for collected packages: deepcut\n",
            "  Building wheel for deepcut (setup.py) ... \u001b[?25l\u001b[?25hdone\n",
            "  Created wheel for deepcut: filename=deepcut-0.6.1.0-cp36-none-any.whl size=2010527 sha256=5cb81747aed256411f9ba4a8a55b95d841dc8ae7853066863df1f5a5f1fcfef7\n",
            "  Stored in directory: /root/.cache/pip/wheels/4a/01/e0/7e93820628b45ac21db97398b0475a6df7772d1f274f7d0878\n",
            "Successfully built deepcut\n",
            "Installing collected packages: deepcut\n",
            "Successfully installed deepcut-0.6.1.0\n"
          ],
          "name": "stdout"
        }
      ]
    },
    {
      "cell_type": "code",
      "metadata": {
        "id": "J2qnLFktP_cQ",
        "colab_type": "code",
        "outputId": "72494203-aeb0-441d-a11d-97343bf87f15",
        "colab": {
          "base_uri": "https://localhost:8080/",
          "height": 1000
        }
      },
      "source": [
        "import deepcut\n",
        "deepcut.tokenize('วันที่ 28 ส.ค.2562 ที่ทำเนียบรัฐบาล นายเทวัญ ลิปตพัลลภ รมต.ประจำสำนักนายกรัฐมนตรี ในฐานะกำกับดูแลสำนักงานพระพุทธศาสนาแห่งชาติ (พศ.) กล่าวก่อน พล.อ.ประยุทธ์ จันทร์โอชา นายกรัฐมนตรี และ รมว.กลาโหม นำคณะรัฐมนตรี เข้าเฝ้าถวายสักการะสมเด็จพระสังฆราช ที่ห้องประชุมมหาเถรสมาคม อ.พุทธมณฑล จ.นครปฐม ว่า การเข้าเฝ้าถวายสักการะสมเด็จพระสังฆราชครั้งนี้ เพื่อความเป็นสิริมงคลของคณะรัฐมนตรี และวันนี้มีการประชุมมหาเถรสมาคม (มส.) ด้วย แต่ตนไม่ทราบว่าจะมีการพิจารณาเรื่องอะไร เพราะเป็นเรื่องของ มส.')\n"
      ],
      "execution_count": 0,
      "outputs": [
        {
          "output_type": "stream",
          "text": [
            "Using TensorFlow backend.\n",
            "WARNING: Logging before flag parsing goes to stderr.\n",
            "W0829 02:58:14.205035 140326747596672 deprecation_wrapper.py:119] From /usr/local/lib/python3.6/dist-packages/keras/backend/tensorflow_backend.py:74: The name tf.get_default_graph is deprecated. Please use tf.compat.v1.get_default_graph instead.\n",
            "\n",
            "W0829 02:58:14.259216 140326747596672 deprecation_wrapper.py:119] From /usr/local/lib/python3.6/dist-packages/keras/backend/tensorflow_backend.py:517: The name tf.placeholder is deprecated. Please use tf.compat.v1.placeholder instead.\n",
            "\n",
            "W0829 02:58:14.274751 140326747596672 deprecation_wrapper.py:119] From /usr/local/lib/python3.6/dist-packages/keras/backend/tensorflow_backend.py:4138: The name tf.random_uniform is deprecated. Please use tf.random.uniform instead.\n",
            "\n",
            "W0829 02:58:14.299356 140326747596672 deprecation_wrapper.py:119] From /usr/local/lib/python3.6/dist-packages/keras/backend/tensorflow_backend.py:133: The name tf.placeholder_with_default is deprecated. Please use tf.compat.v1.placeholder_with_default instead.\n",
            "\n",
            "W0829 02:58:14.310340 140326747596672 deprecation.py:506] From /usr/local/lib/python3.6/dist-packages/keras/backend/tensorflow_backend.py:3445: calling dropout (from tensorflow.python.ops.nn_ops) with keep_prob is deprecated and will be removed in a future version.\n",
            "Instructions for updating:\n",
            "Please use `rate` instead of `keep_prob`. Rate should be set to `rate = 1 - keep_prob`.\n",
            "W0829 02:58:15.005616 140326747596672 deprecation_wrapper.py:119] From /usr/local/lib/python3.6/dist-packages/keras/optimizers.py:790: The name tf.train.Optimizer is deprecated. Please use tf.compat.v1.train.Optimizer instead.\n",
            "\n",
            "W0829 02:58:15.019983 140326747596672 deprecation_wrapper.py:119] From /usr/local/lib/python3.6/dist-packages/keras/backend/tensorflow_backend.py:3376: The name tf.log is deprecated. Please use tf.math.log instead.\n",
            "\n",
            "W0829 02:58:15.028449 140326747596672 deprecation.py:323] From /usr/local/lib/python3.6/dist-packages/tensorflow/python/ops/nn_impl.py:180: add_dispatch_support.<locals>.wrapper (from tensorflow.python.ops.array_ops) is deprecated and will be removed in a future version.\n",
            "Instructions for updating:\n",
            "Use tf.where in 2.0, which has the same broadcast rule as np.where\n"
          ],
          "name": "stderr"
        },
        {
          "output_type": "execute_result",
          "data": {
            "text/plain": [
              "['วัน',\n",
              " 'ที่',\n",
              " ' ',\n",
              " '28',\n",
              " ' ',\n",
              " 'ส.ค.',\n",
              " '2562',\n",
              " ' ',\n",
              " 'ที่',\n",
              " 'ทำเนียบรัฐบาล',\n",
              " ' ',\n",
              " 'นายเทวัญ ลิปตพัลลภ',\n",
              " ' ',\n",
              " 'รมต.',\n",
              " 'ประจำ',\n",
              " 'สำนักนายกรัฐมนตรี',\n",
              " ' ',\n",
              " 'ใน',\n",
              " 'ฐานะ',\n",
              " 'กำกับ',\n",
              " 'ดูแล',\n",
              " 'สำนักงานพระพุทธศาสนาแห่งชาติ',\n",
              " ' ',\n",
              " '(',\n",
              " 'พศ.',\n",
              " ')',\n",
              " ' ',\n",
              " 'กล่าว',\n",
              " 'ก่อน',\n",
              " ' ',\n",
              " 'พล.อ.ประยุทธ์ จันทร์โอชา',\n",
              " ' ',\n",
              " 'นายก',\n",
              " 'รัฐมนตรี',\n",
              " ' ',\n",
              " 'และ',\n",
              " ' ',\n",
              " 'รมว.',\n",
              " 'กลาโหม',\n",
              " ' ',\n",
              " 'นำ',\n",
              " 'คณะ',\n",
              " 'รัฐมนตรี',\n",
              " ' ',\n",
              " 'เข้า',\n",
              " 'เฝ้า',\n",
              " 'ถวาย',\n",
              " 'สักการะ',\n",
              " 'สมเด็จพระสังฆราช',\n",
              " ' ',\n",
              " 'ที่',\n",
              " 'ห้อง',\n",
              " 'ประชุม',\n",
              " 'มหาเถรสมาคม',\n",
              " ' ',\n",
              " 'อ.พุทธมณฑล',\n",
              " ' ',\n",
              " 'จ.นครปฐม',\n",
              " ' ',\n",
              " 'ว่า',\n",
              " ' ',\n",
              " 'การ',\n",
              " 'เข้า',\n",
              " 'เฝ้า',\n",
              " 'ถวาย',\n",
              " 'สักการะ',\n",
              " 'สมเด็จพระสังฆราช',\n",
              " 'ครั้ง',\n",
              " 'นี้',\n",
              " ' ',\n",
              " 'เพื่อ',\n",
              " 'ความ',\n",
              " 'เป็น',\n",
              " 'สิริมงคล',\n",
              " 'ของ',\n",
              " 'คณะ',\n",
              " 'รัฐมนตรี',\n",
              " ' ',\n",
              " 'และ',\n",
              " 'วัน',\n",
              " 'นี้',\n",
              " 'มี',\n",
              " 'การ',\n",
              " 'ประชุม',\n",
              " 'มหาเถรสมาคม',\n",
              " ' ',\n",
              " '(',\n",
              " 'มส.',\n",
              " ')',\n",
              " ' ',\n",
              " 'ด้วย',\n",
              " ' ',\n",
              " 'แต่',\n",
              " 'ตน',\n",
              " 'ไม่',\n",
              " 'ทราบ',\n",
              " 'ว่า',\n",
              " 'จะ',\n",
              " 'มี',\n",
              " 'การ',\n",
              " 'พิจารณา',\n",
              " 'เรื่อง',\n",
              " 'อะไร',\n",
              " ' ',\n",
              " 'เพราะ',\n",
              " 'เป็น',\n",
              " 'เรื่อง',\n",
              " 'ของ',\n",
              " ' ',\n",
              " 'มส.']"
            ]
          },
          "metadata": {
            "tags": []
          },
          "execution_count": 47
        }
      ]
    },
    {
      "cell_type": "markdown",
      "metadata": {
        "id": "GX-bkvtORWYT",
        "colab_type": "text"
      },
      "source": [
        "# **Word Embeddings**"
      ]
    },
    {
      "cell_type": "code",
      "metadata": {
        "id": "wWZMXdUjT8ei",
        "colab_type": "code",
        "colab": {}
      },
      "source": [
        "# imports needed and logging\n",
        "import gzip\n",
        "import gensim \n",
        " \n",
        " "
      ],
      "execution_count": 0,
      "outputs": []
    },
    {
      "cell_type": "code",
      "metadata": {
        "id": "Bw8_b-zwT8h1",
        "colab_type": "code",
        "outputId": "db584cbf-19e2-45ed-cb9c-3b2f35c33963",
        "colab": {
          "base_uri": "https://localhost:8080/",
          "height": 377
        }
      },
      "source": [
        "!wget  https://github.com/eyaler/word2vec-slim/blob/master/GoogleNews-vectors-negative300-SLIM.bin.gz?raw=true\n"
      ],
      "execution_count": 0,
      "outputs": [
        {
          "output_type": "stream",
          "text": [
            "--2019-08-29 04:08:07--  https://github.com/eyaler/word2vec-slim/blob/master/GoogleNews-vectors-negative300-SLIM.bin.gz?raw=true\n",
            "Resolving github.com (github.com)... 192.30.255.112\n",
            "Connecting to github.com (github.com)|192.30.255.112|:443... connected.\n",
            "HTTP request sent, awaiting response... 302 Found\n",
            "Location: https://github.com/eyaler/word2vec-slim/raw/master/GoogleNews-vectors-negative300-SLIM.bin.gz [following]\n",
            "--2019-08-29 04:08:08--  https://github.com/eyaler/word2vec-slim/raw/master/GoogleNews-vectors-negative300-SLIM.bin.gz\n",
            "Reusing existing connection to github.com:443.\n",
            "HTTP request sent, awaiting response... 302 Found\n",
            "Location: https://media.githubusercontent.com/media/eyaler/word2vec-slim/master/GoogleNews-vectors-negative300-SLIM.bin.gz [following]\n",
            "--2019-08-29 04:08:08--  https://media.githubusercontent.com/media/eyaler/word2vec-slim/master/GoogleNews-vectors-negative300-SLIM.bin.gz\n",
            "Resolving media.githubusercontent.com (media.githubusercontent.com)... 151.101.0.133, 151.101.64.133, 151.101.128.133, ...\n",
            "Connecting to media.githubusercontent.com (media.githubusercontent.com)|151.101.0.133|:443... connected.\n",
            "HTTP request sent, awaiting response... 200 OK\n",
            "Length: 276467217 (264M) [application/octet-stream]\n",
            "Saving to: ‘GoogleNews-vectors-negative300-SLIM.bin.gz?raw=true’\n",
            "\n",
            "GoogleNews-vectors- 100%[===================>] 263.66M   205MB/s    in 1.3s    \n",
            "\n",
            "2019-08-29 04:08:09 (205 MB/s) - ‘GoogleNews-vectors-negative300-SLIM.bin.gz?raw=true’ saved [276467217/276467217]\n",
            "\n"
          ],
          "name": "stdout"
        }
      ]
    },
    {
      "cell_type": "code",
      "metadata": {
        "id": "UO0p-9HEj02n",
        "colab_type": "code",
        "outputId": "890b474e-62f8-44e2-d004-1c7f6e0a4967",
        "colab": {
          "base_uri": "https://localhost:8080/",
          "height": 119
        }
      },
      "source": [
        "!du -sh *"
      ],
      "execution_count": 0,
      "outputs": [
        {
          "output_type": "stream",
          "text": [
            "346M\ta.model\n",
            "64K\tGoogleNews-vectors-negative300-SLIM.bin.gz\n",
            "264M\tGoogleNews-vectors-negative300-SLIM.bin.gz?raw=true\n",
            "264M\tGoogleNews-vectors-negative300-SLIM.bin.gz?raw=true.gz\n",
            "264M\tmodel.bin\n",
            "55M\tsample_data\n"
          ],
          "name": "stdout"
        }
      ]
    },
    {
      "cell_type": "code",
      "metadata": {
        "id": "JxlPWARzfDpT",
        "colab_type": "code",
        "outputId": "10d813e7-de26-437e-a618-8dea8594c486",
        "colab": {
          "base_uri": "https://localhost:8080/",
          "height": 63
        }
      },
      "source": [
        "!mv *true model.bin.gz\n",
        "!gzip -d model.bin.gz\n"
      ],
      "execution_count": 0,
      "outputs": [
        {
          "output_type": "stream",
          "text": [
            "gzip: model.bin already exists; do you wish to overwrite (y or n)? "
          ],
          "name": "stdout"
        }
      ]
    },
    {
      "cell_type": "code",
      "metadata": {
        "id": "eoHLxrbVT8k9",
        "colab_type": "code",
        "colab": {}
      },
      "source": [
        "from gensim.models import word2vec\n",
        "\n",
        "model = gensim.models.KeyedVectors.load_word2vec_format (\"model.bin\", binary=True)\n",
        "print(model)"
      ],
      "execution_count": 0,
      "outputs": []
    },
    {
      "cell_type": "code",
      "metadata": {
        "id": "-T8kLutngXvW",
        "colab_type": "code",
        "outputId": "46dd8ba6-2a80-4b34-c5e1-bd63b88e6a6c",
        "colab": {
          "base_uri": "https://localhost:8080/",
          "height": 241
        }
      },
      "source": [
        "model.most_similar('love')"
      ],
      "execution_count": 0,
      "outputs": [
        {
          "output_type": "stream",
          "text": [
            "/usr/local/lib/python3.6/dist-packages/gensim/matutils.py:737: FutureWarning: Conversion of the second argument of issubdtype from `int` to `np.signedinteger` is deprecated. In future, it will be treated as `np.int64 == np.dtype(int).type`.\n",
            "  if np.issubdtype(vec.dtype, np.int):\n"
          ],
          "name": "stderr"
        },
        {
          "output_type": "execute_result",
          "data": {
            "text/plain": [
              "[('loved', 0.6907792091369629),\n",
              " ('adore', 0.6816873550415039),\n",
              " ('loves', 0.6618633270263672),\n",
              " ('passion', 0.6100709438323975),\n",
              " ('hate', 0.600395679473877),\n",
              " ('loving', 0.5886635780334473),\n",
              " ('affection', 0.5664337873458862),\n",
              " ('adores', 0.5440906882286072),\n",
              " ('cherish', 0.5405280590057373),\n",
              " ('adored', 0.5365651845932007)]"
            ]
          },
          "metadata": {
            "tags": []
          },
          "execution_count": 72
        }
      ]
    },
    {
      "cell_type": "code",
      "metadata": {
        "id": "soCJiyhbgXzM",
        "colab_type": "code",
        "outputId": "bcab75e6-deeb-4c1d-b0f6-ea911b63345c",
        "colab": {
          "base_uri": "https://localhost:8080/",
          "height": 122
        }
      },
      "source": [
        "model.doesnt_match(\"breakfast cereal dinner lunch\".split())"
      ],
      "execution_count": 0,
      "outputs": [
        {
          "output_type": "stream",
          "text": [
            "/usr/local/lib/python3.6/dist-packages/gensim/models/keyedvectors.py:895: FutureWarning: arrays to stack must be passed as a \"sequence\" type such as list or tuple. Support for non-sequence iterables such as generators is deprecated as of NumPy 1.16 and will raise an error in the future.\n",
            "  vectors = vstack(self.word_vec(word, use_norm=True) for word in used_words).astype(REAL)\n",
            "/usr/local/lib/python3.6/dist-packages/gensim/matutils.py:737: FutureWarning: Conversion of the second argument of issubdtype from `int` to `np.signedinteger` is deprecated. In future, it will be treated as `np.int64 == np.dtype(int).type`.\n",
            "  if np.issubdtype(vec.dtype, np.int):\n"
          ],
          "name": "stderr"
        },
        {
          "output_type": "execute_result",
          "data": {
            "text/plain": [
              "'cereal'"
            ]
          },
          "metadata": {
            "tags": []
          },
          "execution_count": 74
        }
      ]
    },
    {
      "cell_type": "code",
      "metadata": {
        "id": "2RBL7b7VgX6Y",
        "colab_type": "code",
        "outputId": "191eab7a-15c1-4991-e797-36d6c6c05bb6",
        "colab": {
          "base_uri": "https://localhost:8080/",
          "height": 1000
        }
      },
      "source": [
        "model['computer']"
      ],
      "execution_count": 0,
      "outputs": [
        {
          "output_type": "execute_result",
          "data": {
            "text/plain": [
              "array([ 4.08137441e-02, -7.64330178e-02,  4.67502922e-02,  8.05143863e-02,\n",
              "       -3.46916839e-02,  8.23695585e-02, -5.00895977e-02,  3.15378942e-02,\n",
              "        7.68040493e-02,  1.81806684e-02,  1.39137767e-02, -9.32223070e-03,\n",
              "        9.09033418e-03, -6.08495846e-02, -9.92516056e-03,  3.69178876e-02,\n",
              "       -2.41172127e-02,  7.01254383e-02,  6.49309605e-02, -6.19626865e-02,\n",
              "       -4.15558144e-02,  5.67682087e-02, -1.76820919e-04,  3.65468524e-02,\n",
              "        6.41888902e-02,  9.91356559e-04,  3.39496173e-02,  2.46737637e-02,\n",
              "        1.35427425e-02, -2.63434183e-02, -5.56551069e-02, -4.60082218e-02,\n",
              "       -8.64509344e-02,  9.32223070e-03, -4.73068431e-02, -1.20957099e-01,\n",
              "       -8.38536993e-02,  4.97185625e-02,  1.39137767e-02, -1.38210189e-02,\n",
              "       -4.30399515e-02,  7.42068142e-02,  3.71034071e-02,  4.82344255e-02,\n",
              "        2.50447989e-02,  2.63434183e-02,  3.89585760e-03,  6.67861328e-02,\n",
              "       -6.41888902e-02,  4.60893876e-04, -1.13536417e-01, -4.37820181e-02,\n",
              "        2.15199757e-02, -6.75281957e-02, -7.94012845e-02,  6.71571642e-02,\n",
              "        9.04395524e-03, -9.79529917e-02, -1.69748086e-02,  7.16095716e-02,\n",
              "        2.09634248e-02,  1.91082545e-02, -4.06282283e-02,  7.19806030e-02,\n",
              "       -4.41530533e-02,  3.22799608e-02, -6.53019920e-02,  9.31295455e-02,\n",
              "       -6.60440624e-02, -3.15378956e-03,  1.73458420e-02, -6.12206198e-03,\n",
              "        7.08675012e-02, -2.30041109e-02, -1.58617049e-02,  6.93833679e-02,\n",
              "        8.38536993e-02, -4.65647727e-02, -9.69326496e-03, -1.17246762e-01,\n",
              "        3.46916839e-02,  6.08495846e-02,  6.49309605e-02,  4.54516709e-02,\n",
              "        2.68999692e-02, -1.00642983e-02, -1.17339520e-02,  1.54350162e-01,\n",
              "       -3.85875404e-02,  2.17054915e-02, -2.75956583e-03, -3.48771997e-02,\n",
              "       -5.71392439e-02, -9.72109213e-02,  8.23695585e-02, -1.38210189e-02,\n",
              "        8.53378326e-02,  3.04247923e-02,  5.93654476e-02,  2.00358387e-02,\n",
              "        5.71392439e-02, -4.35965024e-02, -3.28365155e-02,  4.52661552e-02,\n",
              "       -2.72710025e-02,  1.03889532e-01, -6.23337217e-02,  2.77116057e-03,\n",
              "        1.60286710e-01, -4.28544320e-02, -5.15737347e-02, -5.00895977e-02,\n",
              "       -5.23158014e-02, -2.91261729e-02,  2.37461794e-02,  1.89227369e-02,\n",
              "       -7.27226734e-02, -2.29113530e-02,  8.64509344e-02,  2.23548021e-02,\n",
              "       -1.23183303e-01,  2.05923896e-02, -5.15737347e-02,  3.10741016e-03,\n",
              "       -1.99430808e-02, -6.63803134e-04, -3.72889228e-02, -1.08991256e-02,\n",
              "        1.37282601e-02,  8.19985271e-02,  2.27258354e-02, -1.17246762e-01,\n",
              "       -8.64509344e-02,  9.94371250e-02,  3.74744385e-02, -1.92937702e-02,\n",
              "        6.77137123e-03,  5.00895977e-02, -2.03326657e-01, -6.90123364e-02,\n",
              "        5.26868366e-02, -1.17988832e-01, -3.69178876e-02,  5.00895977e-02,\n",
              "       -4.41530533e-02,  2.67144516e-02,  1.08341940e-01,  1.33572258e-02,\n",
              "       -3.85875404e-02, -1.42848110e-02,  5.37999384e-02,  5.41709699e-02,\n",
              "       -2.16127336e-02,  1.00921266e-01, -7.97723234e-02,  3.66396131e-03,\n",
              "       -2.54158322e-02, -1.83661859e-02, -2.31896285e-02,  9.31295455e-02,\n",
              "       -3.67323719e-02,  6.77137123e-03, -4.86054607e-02, -1.81806684e-02,\n",
              "       -2.75956583e-03,  6.82702661e-02,  1.05744703e-02, -8.01433548e-02,\n",
              "       -5.45420051e-02, -4.86054607e-02,  6.58585457e-03, -1.36818807e-03,\n",
              "       -7.75461197e-02,  1.37978292e-03, -4.54516709e-02, -2.33751461e-02,\n",
              "        2.25403178e-02, -1.22905034e-03, -6.49309605e-02, -1.19658485e-02,\n",
              "       -3.37640978e-02, -1.09826081e-01,  1.30789503e-02, -7.12385401e-02,\n",
              "        1.12052284e-01,  6.01075180e-02, -4.54516709e-02,  2.89406553e-02,\n",
              "        2.43027303e-02, -1.78096350e-02, -2.59723831e-02,  4.61473595e-03,\n",
              "       -5.49130403e-02,  1.72530841e-02,  1.40065355e-02,  1.47671551e-01,\n",
              "        5.52840754e-02, -9.72109213e-02, -1.69748086e-02, -5.08316644e-02,\n",
              "       -5.26868366e-02,  2.50447989e-02,  5.23158014e-02,  4.35965024e-02,\n",
              "        7.71750808e-02, -1.81806684e-02,  6.86413003e-03, -3.24654803e-02,\n",
              "       -9.42426473e-02, -1.29119843e-01, -1.07599879e-02,  4.00716774e-02,\n",
              "       -8.16274881e-02, -3.32075469e-02,  2.70854849e-02,  7.12385401e-02,\n",
              "       -4.26689163e-02,  1.03889532e-01, -1.23925373e-01, -6.75281957e-02,\n",
              "       -1.61399804e-02, -1.02405399e-01,  2.52303164e-02, -2.61579007e-02,\n",
              "       -7.56909475e-02, -2.67144516e-02, -9.23874825e-02, -1.39137767e-02,\n",
              "       -2.80130710e-02, -6.75281957e-02,  3.48771997e-02, -4.74923588e-02,\n",
              "       -6.27047569e-02, -1.35798469e-01, -1.08341940e-01, -6.34468198e-02,\n",
              "        7.49488771e-02, -5.82523458e-02,  8.81205872e-03,  7.82881826e-02,\n",
              "        6.86412975e-02, -1.04353325e-02, -7.30937049e-02, -3.65468524e-02,\n",
              "       -4.05818503e-03, -1.79951508e-02,  2.48592813e-02, -4.77706362e-03,\n",
              "        6.77137123e-03, -3.04247923e-02, -9.86950547e-02,  3.56192701e-02,\n",
              "       -2.96827238e-02,  1.78096350e-02, -8.44102446e-03,  7.09602609e-03,\n",
              "        1.18267108e-02,  3.98861617e-03, -6.45599216e-02,  9.83240269e-03,\n",
              "       -1.29861915e-02, -5.47275227e-03, -2.07779072e-02, -3.33930664e-02,\n",
              "        7.47865532e-04,  8.49668011e-02, -5.19447662e-02,  6.67861328e-02,\n",
              "       -6.19626865e-02,  7.12385401e-02,  1.30789503e-02, -2.14272160e-02,\n",
              "       -8.65081802e-06,  1.62327401e-02,  2.20765267e-02, -4.09992635e-02,\n",
              "       -1.47486040e-02, -1.02405399e-01,  1.27079161e-02,  3.72889228e-02,\n",
              "        2.14272160e-02,  8.49668011e-02, -2.08706651e-02,  5.56551069e-02,\n",
              "        2.25403178e-02, -8.34826604e-02,  2.43027303e-02,  6.30757911e-03,\n",
              "        1.73458420e-02,  1.23925373e-01, -1.44703284e-01,  6.49309605e-02,\n",
              "        2.15199757e-02, -3.97006422e-02,  5.26868366e-02, -5.97364828e-02,\n",
              "        1.22905034e-03, -1.82734262e-02, -9.42426473e-02, -2.35606618e-02],\n",
              "      dtype=float32)"
            ]
          },
          "metadata": {
            "tags": []
          },
          "execution_count": 75
        }
      ]
    },
    {
      "cell_type": "code",
      "metadata": {
        "id": "xmtywp5LhQkj",
        "colab_type": "code",
        "outputId": "bf736695-12ae-4303-933f-45e7d4a81bf6",
        "colab": {
          "base_uri": "https://localhost:8080/",
          "height": 88
        }
      },
      "source": [
        "model.most_similar(positive=['woman', 'king'], negative=['man'], topn=1)"
      ],
      "execution_count": 0,
      "outputs": [
        {
          "output_type": "stream",
          "text": [
            "/usr/local/lib/python3.6/dist-packages/gensim/matutils.py:737: FutureWarning: Conversion of the second argument of issubdtype from `int` to `np.signedinteger` is deprecated. In future, it will be treated as `np.int64 == np.dtype(int).type`.\n",
            "  if np.issubdtype(vec.dtype, np.int):\n"
          ],
          "name": "stderr"
        },
        {
          "output_type": "execute_result",
          "data": {
            "text/plain": [
              "[('queen', 0.7118192911148071)]"
            ]
          },
          "metadata": {
            "tags": []
          },
          "execution_count": 76
        }
      ]
    },
    {
      "cell_type": "code",
      "metadata": {
        "id": "NfFcp4yghQn0",
        "colab_type": "code",
        "colab": {}
      },
      "source": [
        ""
      ],
      "execution_count": 0,
      "outputs": []
    },
    {
      "cell_type": "markdown",
      "metadata": {
        "id": "rVXFVxY3RrnZ",
        "colab_type": "text"
      },
      "source": [
        "# **WordNet**"
      ]
    },
    {
      "cell_type": "code",
      "metadata": {
        "id": "FX4KxrQIhQus",
        "colab_type": "code",
        "outputId": "0aba41a2-96cf-4cb5-af49-175e69dc1b1c",
        "colab": {
          "base_uri": "https://localhost:8080/",
          "height": 70
        }
      },
      "source": [
        "from nltk.corpus import wordnet as wn\n",
        "import nltk\n",
        "nltk.download('wordnet')"
      ],
      "execution_count": 0,
      "outputs": [
        {
          "output_type": "stream",
          "text": [
            "[nltk_data] Downloading package wordnet to /root/nltk_data...\n",
            "[nltk_data]   Unzipping corpora/wordnet.zip.\n"
          ],
          "name": "stdout"
        },
        {
          "output_type": "execute_result",
          "data": {
            "text/plain": [
              "True"
            ]
          },
          "metadata": {
            "tags": []
          },
          "execution_count": 7
        }
      ]
    },
    {
      "cell_type": "code",
      "metadata": {
        "id": "Ee36jMzAhQ0L",
        "colab_type": "code",
        "outputId": "1b65ce8b-7373-4496-fdfc-a1ce62e65983",
        "colab": {
          "base_uri": "https://localhost:8080/",
          "height": 158
        }
      },
      "source": [
        " wn.synsets('dog')"
      ],
      "execution_count": 0,
      "outputs": [
        {
          "output_type": "execute_result",
          "data": {
            "text/plain": [
              "[Synset('dog.n.01'),\n",
              " Synset('frump.n.01'),\n",
              " Synset('dog.n.03'),\n",
              " Synset('cad.n.01'),\n",
              " Synset('frank.n.02'),\n",
              " Synset('pawl.n.01'),\n",
              " Synset('andiron.n.01'),\n",
              " Synset('chase.v.01')]"
            ]
          },
          "metadata": {
            "tags": []
          },
          "execution_count": 8
        }
      ]
    },
    {
      "cell_type": "markdown",
      "metadata": {
        "id": "78HS73kMU3vX",
        "colab_type": "text"
      },
      "source": [
        "**Thai WordNet**"
      ]
    },
    {
      "cell_type": "code",
      "metadata": {
        "id": "4p1bFJ0dVIQ6",
        "colab_type": "code",
        "outputId": "6eef958e-0fdb-4bf2-95d8-9ff296db4c46",
        "colab": {
          "base_uri": "https://localhost:8080/",
          "height": 461
        }
      },
      "source": [
        "!pip install pythainlp\n"
      ],
      "execution_count": 0,
      "outputs": [
        {
          "output_type": "stream",
          "text": [
            "Collecting pythainlp\n",
            "\u001b[?25l  Downloading https://files.pythonhosted.org/packages/37/94/1ca5c23bfdbc0f27fa26e5eeda47d8ff422cbbd3f38c0b8a160fa17a2583/pythainlp-2.0.7-py3-none-any.whl (11.0MB)\n",
            "\u001b[K     |████████████████████████████████| 11.0MB 90kB/s \n",
            "\u001b[?25hRequirement already satisfied: nltk>=3.2.2 in /usr/local/lib/python3.6/dist-packages (from pythainlp) (3.2.5)\n",
            "Requirement already satisfied: tqdm in /usr/local/lib/python3.6/dist-packages (from pythainlp) (4.28.1)\n",
            "Requirement already satisfied: pytz in /usr/local/lib/python3.6/dist-packages (from pythainlp) (2018.9)\n",
            "Requirement already satisfied: dill in /usr/local/lib/python3.6/dist-packages (from pythainlp) (0.3.0)\n",
            "Requirement already satisfied: requests in /usr/local/lib/python3.6/dist-packages (from pythainlp) (2.21.0)\n",
            "Collecting tinydb (from pythainlp)\n",
            "  Downloading https://files.pythonhosted.org/packages/d7/f9/0e871cbf0da678cf1780609dc6aef26a5ed544c86733fc1ceaf134fce52c/tinydb-3.13.0-py2.py3-none-any.whl\n",
            "Collecting marisa-trie (from pythainlp)\n",
            "\u001b[?25l  Downloading https://files.pythonhosted.org/packages/20/95/d23071d0992dabcb61c948fb118a90683193befc88c23e745b050a29e7db/marisa-trie-0.7.5.tar.gz (270kB)\n",
            "\u001b[K     |████████████████████████████████| 276kB 57.6MB/s \n",
            "\u001b[?25hRequirement already satisfied: six in /usr/local/lib/python3.6/dist-packages (from nltk>=3.2.2->pythainlp) (1.12.0)\n",
            "Requirement already satisfied: idna<2.9,>=2.5 in /usr/local/lib/python3.6/dist-packages (from requests->pythainlp) (2.8)\n",
            "Requirement already satisfied: certifi>=2017.4.17 in /usr/local/lib/python3.6/dist-packages (from requests->pythainlp) (2019.6.16)\n",
            "Requirement already satisfied: chardet<3.1.0,>=3.0.2 in /usr/local/lib/python3.6/dist-packages (from requests->pythainlp) (3.0.4)\n",
            "Requirement already satisfied: urllib3<1.25,>=1.21.1 in /usr/local/lib/python3.6/dist-packages (from requests->pythainlp) (1.24.3)\n",
            "Building wheels for collected packages: marisa-trie\n",
            "  Building wheel for marisa-trie (setup.py) ... \u001b[?25l\u001b[?25hdone\n",
            "  Created wheel for marisa-trie: filename=marisa_trie-0.7.5-cp36-cp36m-linux_x86_64.whl size=860977 sha256=0f7567e866cbd9fc7b9c2117dd8076cf75e9499da142e18fd287e7d7311c354e\n",
            "  Stored in directory: /root/.cache/pip/wheels/45/24/79/022624fc914f0e559fe8a1141aaff1f9df810905a13fc75d57\n",
            "Successfully built marisa-trie\n",
            "Installing collected packages: tinydb, marisa-trie, pythainlp\n",
            "Successfully installed marisa-trie-0.7.5 pythainlp-2.0.7 tinydb-3.13.0\n"
          ],
          "name": "stdout"
        }
      ]
    },
    {
      "cell_type": "code",
      "metadata": {
        "id": "ALCdLAY4VO5O",
        "colab_type": "code",
        "colab": {}
      },
      "source": [
        "from pythainlp.corpus import wordnet as thai_wn\n"
      ],
      "execution_count": 0,
      "outputs": []
    },
    {
      "cell_type": "code",
      "metadata": {
        "id": "STwfhUopV5rS",
        "colab_type": "code",
        "colab": {}
      },
      "source": [
        "data = \"\"\"รับ,ให้,3.02\n",
        "แนะนำ,แนะนำ,10\n",
        "เลียนแบบ,วาดภาพ,1.88\n",
        "คิด,ตัดสิน,2.71\n",
        "ทักทาย,พบ,2.29\"\"\""
      ],
      "execution_count": 0,
      "outputs": []
    },
    {
      "cell_type": "code",
      "metadata": {
        "id": "KAt2EkKUWZlp",
        "colab_type": "code",
        "colab": {}
      },
      "source": [
        "def compute_wn_sim(a,b):\n",
        "\n",
        "\n",
        "  syn_a = thai_wn.synsets(a)[0]\n",
        "  #print(syn_a)\n",
        "  syn_b = thai_wn.synsets(b)[0]\n",
        "  #print(syn_b)\n",
        "\n",
        "\n",
        "  sim = thai_wn.path_similarity(syn_a,syn_b)\n",
        "  #print(sim)\n",
        "  return sim\n",
        "  "
      ],
      "execution_count": 0,
      "outputs": []
    },
    {
      "cell_type": "code",
      "metadata": {
        "id": "d-1ksxmgV_wf",
        "colab_type": "code",
        "outputId": "6cd5e3dd-8207-419b-fe65-5db8f943246a",
        "colab": {
          "base_uri": "https://localhost:8080/",
          "height": 194
        }
      },
      "source": [
        "for line in data.split('\\n'):\n",
        "  a,b,gold_sim=line.split(',')\n",
        "  print(\"X\")\n",
        "  #print(a,b,gold_sim)\n",
        "  \n",
        "  sim = compute_wn_sim(a,b)\n",
        "  \n",
        "  if sim:\n",
        "    print(sim,a,b)\n",
        "  \n",
        "  "
      ],
      "execution_count": 0,
      "outputs": [
        {
          "output_type": "stream",
          "text": [
            "X\n",
            "0.06666666666666667 รับ ให้\n",
            "X\n",
            "1.0 แนะนำ แนะนำ\n",
            "X\n",
            "0.125 เลียนแบบ วาดภาพ\n",
            "X\n",
            "0.5 คิด ตัดสิน\n",
            "X\n",
            "0.1111111111111111 ทักทาย พบ\n"
          ],
          "name": "stdout"
        }
      ]
    },
    {
      "cell_type": "code",
      "metadata": {
        "id": "ecDOvRq9hQx6",
        "colab_type": "code",
        "outputId": "7125aaab-2681-43a0-9765-c6b3c23b4571",
        "colab": {
          "base_uri": "https://localhost:8080/",
          "height": 70
        }
      },
      "source": [
        "a = 'เก่า'\n",
        "b = 'ใหม่'\n",
        "syn_a = thai_wn.synsets(a)[0]\n",
        "print(syn_a)\n",
        "syn_b = thai_wn.synsets(b)[0]\n",
        "print(syn_b)\n",
        "sim = thai_wn.path_similarity(syn_a,syn_b)\n",
        "print(sim)"
      ],
      "execution_count": 0,
      "outputs": [
        {
          "output_type": "stream",
          "text": [
            "Synset('old.a.02')\n",
            "Synset('new.s.11')\n",
            "None\n"
          ],
          "name": "stdout"
        }
      ]
    },
    {
      "cell_type": "code",
      "metadata": {
        "id": "oPzIhmC_USqV",
        "colab_type": "code",
        "colab": {}
      },
      "source": [
        ""
      ],
      "execution_count": 0,
      "outputs": []
    },
    {
      "cell_type": "code",
      "metadata": {
        "id": "Hpg5yVz4UStx",
        "colab_type": "code",
        "colab": {}
      },
      "source": [
        ""
      ],
      "execution_count": 0,
      "outputs": []
    },
    {
      "cell_type": "code",
      "metadata": {
        "id": "RIF516WgUSxK",
        "colab_type": "code",
        "colab": {}
      },
      "source": [
        ""
      ],
      "execution_count": 0,
      "outputs": []
    },
    {
      "cell_type": "code",
      "metadata": {
        "id": "elkrorJpUS2U",
        "colab_type": "code",
        "colab": {}
      },
      "source": [
        ""
      ],
      "execution_count": 0,
      "outputs": []
    },
    {
      "cell_type": "code",
      "metadata": {
        "id": "NYeQVGsNUS5V",
        "colab_type": "code",
        "colab": {}
      },
      "source": [
        ""
      ],
      "execution_count": 0,
      "outputs": []
    },
    {
      "cell_type": "code",
      "metadata": {
        "id": "wiVn9tj3gX3m",
        "colab_type": "code",
        "colab": {}
      },
      "source": [
        ""
      ],
      "execution_count": 0,
      "outputs": []
    },
    {
      "cell_type": "markdown",
      "metadata": {
        "id": "REmgXTG9RzHi",
        "colab_type": "text"
      },
      "source": [
        "# **other**"
      ]
    },
    {
      "cell_type": "code",
      "metadata": {
        "id": "Ptz82Y9iS6NK",
        "colab_type": "code",
        "outputId": "935ff2c8-63e9-4fa4-d7c0-fb02e02333a1",
        "colab": {
          "base_uri": "https://localhost:8080/",
          "height": 442
        }
      },
      "source": [
        "!pip install bpemb"
      ],
      "execution_count": 0,
      "outputs": [
        {
          "output_type": "stream",
          "text": [
            "Collecting bpemb\n",
            "  Downloading https://files.pythonhosted.org/packages/bc/70/468a9652095b370f797ed37ff77e742b11565c6fd79eaeca5f2e50b164a7/bpemb-0.3.0-py3-none-any.whl\n",
            "Requirement already satisfied: tqdm in /usr/local/lib/python3.6/dist-packages (from bpemb) (4.28.1)\n",
            "Collecting sentencepiece (from bpemb)\n",
            "\u001b[?25l  Downloading https://files.pythonhosted.org/packages/14/3d/efb655a670b98f62ec32d66954e1109f403db4d937c50d779a75b9763a29/sentencepiece-0.1.83-cp36-cp36m-manylinux1_x86_64.whl (1.0MB)\n",
            "\u001b[K     |████████████████████████████████| 1.0MB 7.7MB/s \n",
            "\u001b[?25hRequirement already satisfied: requests in /usr/local/lib/python3.6/dist-packages (from bpemb) (2.21.0)\n",
            "Requirement already satisfied: numpy in /usr/local/lib/python3.6/dist-packages (from bpemb) (1.16.4)\n",
            "Requirement already satisfied: gensim in /usr/local/lib/python3.6/dist-packages (from bpemb) (3.6.0)\n",
            "Requirement already satisfied: chardet<3.1.0,>=3.0.2 in /usr/local/lib/python3.6/dist-packages (from requests->bpemb) (3.0.4)\n",
            "Requirement already satisfied: idna<2.9,>=2.5 in /usr/local/lib/python3.6/dist-packages (from requests->bpemb) (2.8)\n",
            "Requirement already satisfied: urllib3<1.25,>=1.21.1 in /usr/local/lib/python3.6/dist-packages (from requests->bpemb) (1.24.3)\n",
            "Requirement already satisfied: certifi>=2017.4.17 in /usr/local/lib/python3.6/dist-packages (from requests->bpemb) (2019.6.16)\n",
            "Requirement already satisfied: scipy>=0.18.1 in /usr/local/lib/python3.6/dist-packages (from gensim->bpemb) (1.3.1)\n",
            "Requirement already satisfied: smart-open>=1.2.1 in /usr/local/lib/python3.6/dist-packages (from gensim->bpemb) (1.8.4)\n",
            "Requirement already satisfied: six>=1.5.0 in /usr/local/lib/python3.6/dist-packages (from gensim->bpemb) (1.12.0)\n",
            "Requirement already satisfied: boto3 in /usr/local/lib/python3.6/dist-packages (from smart-open>=1.2.1->gensim->bpemb) (1.9.205)\n",
            "Requirement already satisfied: boto>=2.32 in /usr/local/lib/python3.6/dist-packages (from smart-open>=1.2.1->gensim->bpemb) (2.49.0)\n",
            "Requirement already satisfied: s3transfer<0.3.0,>=0.2.0 in /usr/local/lib/python3.6/dist-packages (from boto3->smart-open>=1.2.1->gensim->bpemb) (0.2.1)\n",
            "Requirement already satisfied: jmespath<1.0.0,>=0.7.1 in /usr/local/lib/python3.6/dist-packages (from boto3->smart-open>=1.2.1->gensim->bpemb) (0.9.4)\n",
            "Requirement already satisfied: botocore<1.13.0,>=1.12.205 in /usr/local/lib/python3.6/dist-packages (from boto3->smart-open>=1.2.1->gensim->bpemb) (1.12.205)\n",
            "Requirement already satisfied: docutils<0.15,>=0.10 in /usr/local/lib/python3.6/dist-packages (from botocore<1.13.0,>=1.12.205->boto3->smart-open>=1.2.1->gensim->bpemb) (0.14)\n",
            "Requirement already satisfied: python-dateutil<3.0.0,>=2.1; python_version >= \"2.7\" in /usr/local/lib/python3.6/dist-packages (from botocore<1.13.0,>=1.12.205->boto3->smart-open>=1.2.1->gensim->bpemb) (2.5.3)\n",
            "Installing collected packages: sentencepiece, bpemb\n",
            "Successfully installed bpemb-0.3.0 sentencepiece-0.1.83\n"
          ],
          "name": "stdout"
        }
      ]
    },
    {
      "cell_type": "code",
      "metadata": {
        "id": "Eqz1pwQzS-oH",
        "colab_type": "code",
        "colab": {}
      },
      "source": [
        "from bpemb import BPEmb"
      ],
      "execution_count": 0,
      "outputs": []
    },
    {
      "cell_type": "code",
      "metadata": {
        "id": "FRxC_rt5TEKo",
        "colab_type": "code",
        "outputId": "fcba5ec9-43b6-466d-fd96-02ca332e954d",
        "colab": {
          "base_uri": "https://localhost:8080/",
          "height": 139
        }
      },
      "source": [
        "bpemb_en = BPEmb(lang=\"th\", dim=50, vs=50000)"
      ],
      "execution_count": 0,
      "outputs": [
        {
          "output_type": "stream",
          "text": [
            "downloading https://nlp.h-its.org/bpemb/th/th.wiki.bpe.vs50000.model\n"
          ],
          "name": "stdout"
        },
        {
          "output_type": "stream",
          "text": [
            "100%|██████████| 1627813/1627813 [00:01<00:00, 1389448.15B/s]\n"
          ],
          "name": "stderr"
        },
        {
          "output_type": "stream",
          "text": [
            "downloading https://nlp.h-its.org/bpemb/th/th.wiki.bpe.vs50000.d50.w2v.bin.tar.gz\n"
          ],
          "name": "stdout"
        },
        {
          "output_type": "stream",
          "text": [
            "100%|██████████| 9794964/9794964 [00:01<00:00, 6186239.33B/s]\n",
            "/usr/local/lib/python3.6/dist-packages/smart_open/smart_open_lib.py:398: UserWarning: This function is deprecated, use smart_open.open instead. See the migration notes for details: https://github.com/RaRe-Technologies/smart_open/blob/master/README.rst#migrating-to-the-new-open-function\n",
            "  'See the migration notes for details: %s' % _MIGRATION_NOTES_URL\n"
          ],
          "name": "stderr"
        }
      ]
    },
    {
      "cell_type": "code",
      "metadata": {
        "id": "9I7C2g5-TNm2",
        "colab_type": "code",
        "outputId": "dc965ed8-7925-48d8-82c8-f9499c36f6af",
        "colab": {
          "base_uri": "https://localhost:8080/",
          "height": 1000
        }
      },
      "source": [
        "bpemb_en.embed(\"วายร้ายายายายายายายาย\")"
      ],
      "execution_count": 0,
      "outputs": [
        {
          "output_type": "execute_result",
          "data": {
            "text/plain": [
              "array([[-0.006698, -0.48853 ,  0.362846,  0.03475 ,  0.349515,  0.128232,\n",
              "         0.393987,  0.409502,  0.146954, -0.675239,  0.129585, -0.374741,\n",
              "        -0.089894, -0.438116,  1.790522, -0.256605,  0.469851, -0.37177 ,\n",
              "         0.567487,  1.064163, -1.438902,  0.232063, -0.654272, -0.121033,\n",
              "        -0.227744,  0.238352,  0.089652,  0.343126, -0.521708,  0.194181,\n",
              "         0.362863,  0.193419,  0.222356, -0.192322,  0.587409, -0.614109,\n",
              "        -0.401945,  0.587859,  0.255727,  0.628934,  0.1105  ,  0.108635,\n",
              "         0.246008,  1.482952,  0.063608,  0.448423, -0.023803,  0.588025,\n",
              "         0.339934,  0.732358],\n",
              "       [-0.87295 ,  0.339985,  0.838245,  0.808017, -0.234263,  0.430984,\n",
              "         0.883959, -0.361827,  0.476099, -0.279744,  0.301135,  0.509357,\n",
              "         0.437326,  0.097814,  0.731469,  1.589907,  0.182391, -0.513011,\n",
              "        -0.901642,  0.08808 , -0.18809 , -0.137615,  0.150172, -0.492586,\n",
              "         0.342222,  0.073443,  0.122982, -0.08    ,  0.596372, -0.703259,\n",
              "        -0.936825,  1.179755, -0.019395, -0.472987, -0.335738, -0.344744,\n",
              "         0.284757, -0.617339,  0.467135,  0.318789,  0.47555 ,  0.295696,\n",
              "        -0.281223, -0.262085,  0.107869,  0.083572, -0.642496,  1.014445,\n",
              "         0.361829, -0.570103],\n",
              "       [-0.373984,  0.782648,  0.47434 , -0.515814, -0.320217, -0.004992,\n",
              "         0.486853,  0.255527,  1.160524,  0.597722, -0.015205, -0.495656,\n",
              "         0.671769,  1.258991,  0.002491,  0.30505 ,  0.205282,  0.899706,\n",
              "        -0.442924, -0.714059, -0.455346,  0.054139, -0.139282, -0.214021,\n",
              "        -0.167875,  0.504463,  0.088415,  0.284911,  0.562474,  0.146589,\n",
              "        -0.098531,  0.323747, -0.348287, -0.170807,  0.111466,  0.934831,\n",
              "         0.508996, -0.141045, -0.076715, -0.047051, -0.363483,  0.086111,\n",
              "        -0.207476,  1.086579, -0.531375,  0.311029, -0.480407,  0.620864,\n",
              "        -0.117192, -0.630134],\n",
              "       [-0.373984,  0.782648,  0.47434 , -0.515814, -0.320217, -0.004992,\n",
              "         0.486853,  0.255527,  1.160524,  0.597722, -0.015205, -0.495656,\n",
              "         0.671769,  1.258991,  0.002491,  0.30505 ,  0.205282,  0.899706,\n",
              "        -0.442924, -0.714059, -0.455346,  0.054139, -0.139282, -0.214021,\n",
              "        -0.167875,  0.504463,  0.088415,  0.284911,  0.562474,  0.146589,\n",
              "        -0.098531,  0.323747, -0.348287, -0.170807,  0.111466,  0.934831,\n",
              "         0.508996, -0.141045, -0.076715, -0.047051, -0.363483,  0.086111,\n",
              "        -0.207476,  1.086579, -0.531375,  0.311029, -0.480407,  0.620864,\n",
              "        -0.117192, -0.630134],\n",
              "       [-0.373984,  0.782648,  0.47434 , -0.515814, -0.320217, -0.004992,\n",
              "         0.486853,  0.255527,  1.160524,  0.597722, -0.015205, -0.495656,\n",
              "         0.671769,  1.258991,  0.002491,  0.30505 ,  0.205282,  0.899706,\n",
              "        -0.442924, -0.714059, -0.455346,  0.054139, -0.139282, -0.214021,\n",
              "        -0.167875,  0.504463,  0.088415,  0.284911,  0.562474,  0.146589,\n",
              "        -0.098531,  0.323747, -0.348287, -0.170807,  0.111466,  0.934831,\n",
              "         0.508996, -0.141045, -0.076715, -0.047051, -0.363483,  0.086111,\n",
              "        -0.207476,  1.086579, -0.531375,  0.311029, -0.480407,  0.620864,\n",
              "        -0.117192, -0.630134],\n",
              "       [-0.373984,  0.782648,  0.47434 , -0.515814, -0.320217, -0.004992,\n",
              "         0.486853,  0.255527,  1.160524,  0.597722, -0.015205, -0.495656,\n",
              "         0.671769,  1.258991,  0.002491,  0.30505 ,  0.205282,  0.899706,\n",
              "        -0.442924, -0.714059, -0.455346,  0.054139, -0.139282, -0.214021,\n",
              "        -0.167875,  0.504463,  0.088415,  0.284911,  0.562474,  0.146589,\n",
              "        -0.098531,  0.323747, -0.348287, -0.170807,  0.111466,  0.934831,\n",
              "         0.508996, -0.141045, -0.076715, -0.047051, -0.363483,  0.086111,\n",
              "        -0.207476,  1.086579, -0.531375,  0.311029, -0.480407,  0.620864,\n",
              "        -0.117192, -0.630134],\n",
              "       [-0.373984,  0.782648,  0.47434 , -0.515814, -0.320217, -0.004992,\n",
              "         0.486853,  0.255527,  1.160524,  0.597722, -0.015205, -0.495656,\n",
              "         0.671769,  1.258991,  0.002491,  0.30505 ,  0.205282,  0.899706,\n",
              "        -0.442924, -0.714059, -0.455346,  0.054139, -0.139282, -0.214021,\n",
              "        -0.167875,  0.504463,  0.088415,  0.284911,  0.562474,  0.146589,\n",
              "        -0.098531,  0.323747, -0.348287, -0.170807,  0.111466,  0.934831,\n",
              "         0.508996, -0.141045, -0.076715, -0.047051, -0.363483,  0.086111,\n",
              "        -0.207476,  1.086579, -0.531375,  0.311029, -0.480407,  0.620864,\n",
              "        -0.117192, -0.630134],\n",
              "       [-0.373984,  0.782648,  0.47434 , -0.515814, -0.320217, -0.004992,\n",
              "         0.486853,  0.255527,  1.160524,  0.597722, -0.015205, -0.495656,\n",
              "         0.671769,  1.258991,  0.002491,  0.30505 ,  0.205282,  0.899706,\n",
              "        -0.442924, -0.714059, -0.455346,  0.054139, -0.139282, -0.214021,\n",
              "        -0.167875,  0.504463,  0.088415,  0.284911,  0.562474,  0.146589,\n",
              "        -0.098531,  0.323747, -0.348287, -0.170807,  0.111466,  0.934831,\n",
              "         0.508996, -0.141045, -0.076715, -0.047051, -0.363483,  0.086111,\n",
              "        -0.207476,  1.086579, -0.531375,  0.311029, -0.480407,  0.620864,\n",
              "        -0.117192, -0.630134],\n",
              "       [-0.373984,  0.782648,  0.47434 , -0.515814, -0.320217, -0.004992,\n",
              "         0.486853,  0.255527,  1.160524,  0.597722, -0.015205, -0.495656,\n",
              "         0.671769,  1.258991,  0.002491,  0.30505 ,  0.205282,  0.899706,\n",
              "        -0.442924, -0.714059, -0.455346,  0.054139, -0.139282, -0.214021,\n",
              "        -0.167875,  0.504463,  0.088415,  0.284911,  0.562474,  0.146589,\n",
              "        -0.098531,  0.323747, -0.348287, -0.170807,  0.111466,  0.934831,\n",
              "         0.508996, -0.141045, -0.076715, -0.047051, -0.363483,  0.086111,\n",
              "        -0.207476,  1.086579, -0.531375,  0.311029, -0.480407,  0.620864,\n",
              "        -0.117192, -0.630134]], dtype=float32)"
            ]
          },
          "metadata": {
            "tags": []
          },
          "execution_count": 49
        }
      ]
    },
    {
      "cell_type": "code",
      "metadata": {
        "id": "35EVGjjbUI6g",
        "colab_type": "code",
        "outputId": "34d17943-aa5d-4f58-e74c-7aa0154febb0",
        "colab": {
          "base_uri": "https://localhost:8080/",
          "height": 1000
        }
      },
      "source": [
        "\n"
      ],
      "execution_count": 0,
      "outputs": [
        {
          "output_type": "stream",
          "text": [
            "[nltk_data] Downloading collection 'book'\n",
            "[nltk_data]    | \n",
            "[nltk_data]    | Downloading package abc to /root/nltk_data...\n",
            "[nltk_data]    |   Package abc is already up-to-date!\n",
            "[nltk_data]    | Downloading package brown to /root/nltk_data...\n",
            "[nltk_data]    |   Package brown is already up-to-date!\n",
            "[nltk_data]    | Downloading package chat80 to /root/nltk_data...\n",
            "[nltk_data]    |   Package chat80 is already up-to-date!\n",
            "[nltk_data]    | Downloading package cmudict to /root/nltk_data...\n",
            "[nltk_data]    |   Package cmudict is already up-to-date!\n",
            "[nltk_data]    | Downloading package conll2000 to /root/nltk_data...\n",
            "[nltk_data]    |   Package conll2000 is already up-to-date!\n",
            "[nltk_data]    | Downloading package conll2002 to /root/nltk_data...\n",
            "[nltk_data]    |   Package conll2002 is already up-to-date!\n",
            "[nltk_data]    | Downloading package dependency_treebank to\n",
            "[nltk_data]    |     /root/nltk_data...\n",
            "[nltk_data]    |   Package dependency_treebank is already up-to-date!\n",
            "[nltk_data]    | Downloading package genesis to /root/nltk_data...\n",
            "[nltk_data]    |   Package genesis is already up-to-date!\n",
            "[nltk_data]    | Downloading package gutenberg to /root/nltk_data...\n",
            "[nltk_data]    |   Package gutenberg is already up-to-date!\n",
            "[nltk_data]    | Downloading package ieer to /root/nltk_data...\n",
            "[nltk_data]    |   Package ieer is already up-to-date!\n",
            "[nltk_data]    | Downloading package inaugural to /root/nltk_data...\n",
            "[nltk_data]    |   Package inaugural is already up-to-date!\n",
            "[nltk_data]    | Downloading package movie_reviews to\n",
            "[nltk_data]    |     /root/nltk_data...\n",
            "[nltk_data]    |   Package movie_reviews is already up-to-date!\n",
            "[nltk_data]    | Downloading package nps_chat to /root/nltk_data...\n",
            "[nltk_data]    |   Package nps_chat is already up-to-date!\n",
            "[nltk_data]    | Downloading package names to /root/nltk_data...\n",
            "[nltk_data]    |   Package names is already up-to-date!\n",
            "[nltk_data]    | Downloading package ppattach to /root/nltk_data...\n",
            "[nltk_data]    |   Package ppattach is already up-to-date!\n",
            "[nltk_data]    | Downloading package reuters to /root/nltk_data...\n",
            "[nltk_data]    |   Package reuters is already up-to-date!\n",
            "[nltk_data]    | Downloading package senseval to /root/nltk_data...\n",
            "[nltk_data]    |   Package senseval is already up-to-date!\n",
            "[nltk_data]    | Downloading package state_union to /root/nltk_data...\n",
            "[nltk_data]    |   Package state_union is already up-to-date!\n",
            "[nltk_data]    | Downloading package stopwords to /root/nltk_data...\n",
            "[nltk_data]    |   Package stopwords is already up-to-date!\n",
            "[nltk_data]    | Downloading package swadesh to /root/nltk_data...\n",
            "[nltk_data]    |   Package swadesh is already up-to-date!\n",
            "[nltk_data]    | Downloading package timit to /root/nltk_data...\n",
            "[nltk_data]    |   Package timit is already up-to-date!\n",
            "[nltk_data]    | Downloading package treebank to /root/nltk_data...\n",
            "[nltk_data]    |   Package treebank is already up-to-date!\n",
            "[nltk_data]    | Downloading package toolbox to /root/nltk_data...\n",
            "[nltk_data]    |   Package toolbox is already up-to-date!\n",
            "[nltk_data]    | Downloading package udhr to /root/nltk_data...\n",
            "[nltk_data]    |   Package udhr is already up-to-date!\n",
            "[nltk_data]    | Downloading package udhr2 to /root/nltk_data...\n",
            "[nltk_data]    |   Package udhr2 is already up-to-date!\n",
            "[nltk_data]    | Downloading package unicode_samples to\n",
            "[nltk_data]    |     /root/nltk_data...\n",
            "[nltk_data]    |   Package unicode_samples is already up-to-date!\n",
            "[nltk_data]    | Downloading package webtext to /root/nltk_data...\n",
            "[nltk_data]    |   Package webtext is already up-to-date!\n",
            "[nltk_data]    | Downloading package wordnet to /root/nltk_data...\n",
            "[nltk_data]    |   Package wordnet is already up-to-date!\n",
            "[nltk_data]    | Downloading package wordnet_ic to /root/nltk_data...\n",
            "[nltk_data]    |   Package wordnet_ic is already up-to-date!\n",
            "[nltk_data]    | Downloading package words to /root/nltk_data...\n",
            "[nltk_data]    |   Package words is already up-to-date!\n",
            "[nltk_data]    | Downloading package maxent_treebank_pos_tagger to\n",
            "[nltk_data]    |     /root/nltk_data...\n",
            "[nltk_data]    |   Package maxent_treebank_pos_tagger is already up-\n",
            "[nltk_data]    |       to-date!\n",
            "[nltk_data]    | Downloading package maxent_ne_chunker to\n",
            "[nltk_data]    |     /root/nltk_data...\n",
            "[nltk_data]    |   Package maxent_ne_chunker is already up-to-date!\n",
            "[nltk_data]    | Downloading package universal_tagset to\n",
            "[nltk_data]    |     /root/nltk_data...\n",
            "[nltk_data]    |   Package universal_tagset is already up-to-date!\n",
            "[nltk_data]    | Downloading package punkt to /root/nltk_data...\n",
            "[nltk_data]    |   Package punkt is already up-to-date!\n",
            "[nltk_data]    | Downloading package book_grammars to\n",
            "[nltk_data]    |     /root/nltk_data...\n",
            "[nltk_data]    |   Package book_grammars is already up-to-date!\n",
            "[nltk_data]    | Downloading package city_database to\n",
            "[nltk_data]    |     /root/nltk_data...\n",
            "[nltk_data]    |   Package city_database is already up-to-date!\n",
            "[nltk_data]    | Downloading package tagsets to /root/nltk_data...\n",
            "[nltk_data]    |   Package tagsets is already up-to-date!\n",
            "[nltk_data]    | Downloading package panlex_swadesh to\n",
            "[nltk_data]    |     /root/nltk_data...\n",
            "[nltk_data]    |   Package panlex_swadesh is already up-to-date!\n",
            "[nltk_data]    | Downloading package averaged_perceptron_tagger to\n",
            "[nltk_data]    |     /root/nltk_data...\n",
            "[nltk_data]    |   Package averaged_perceptron_tagger is already up-\n",
            "[nltk_data]    |       to-date!\n",
            "[nltk_data]    | \n",
            "[nltk_data]  Done downloading collection book\n",
            "Length of text7 100676\n",
            "Type of text7 <class 'nltk.text.Text'>\n",
            "['Pierre', 'Vinken', ',', '61', 'years', 'old', ',', 'will', 'join', 'the', 'board', 'as', 'a', 'nonexecutive', 'director', 'Nov.', '29', '.', 'Mr.', 'Vinken', 'is', 'chairman', 'of', 'Elsevier', 'N.V.', ',', 'the', 'Dutch', 'publishing', 'group', '.', 'Rudolph', 'Agnew', ',', '55', 'years', 'old', 'and', 'former', 'chairman', 'of', 'Consolidated', 'Gold', 'Fields', 'PLC', ',', 'was', 'named', '*-1', 'a', 'nonexecutive', 'director', 'of', 'this', 'British', 'industrial', 'conglomerate', '.', 'A', 'form', 'of', 'asbestos', 'once', 'used', '*', '*', 'to', 'make', 'Kent', 'cigarette', 'filters', 'has', 'caused', 'a', 'high', 'percentage', 'of', 'cancer', 'deaths', 'among', 'a', 'group', 'of', 'workers', 'exposed', '*', 'to', 'it', 'more', 'than', '30', 'years', 'ago', ',', 'researchers', 'reported', '0', '*T*-1', '.', 'The']\n",
            "Displaying 5 of 5 matches:\n",
            "panese investors as a good long-term play tied * to 1992 's European economic \n",
            ". , with its regional friends , must play a crucial role in * designing its ar\n",
            "you , '' said *T*-1 Mr. Baum . `` We play *-1 to win . Wednesday , November 1 \n",
            "ic did n't come to the market *-1 to play a game ; they can go to Off-Track Be\n",
            " stage is set *-76 for the battle to play out . The anti-programmers are getti\n",
            "None\n"
          ],
          "name": "stdout"
        },
        {
          "output_type": "display_data",
          "data": {
            "image/png": "[encoded data removed]",
            "text/plain": [
              "<Figure size 432x288 with 1 Axes>"
            ]
          },
          "metadata": {
            "tags": []
          }
        },
        {
          "output_type": "display_data",
          "data": {
            "image/png": "[encoded data removed]",
            "text/plain": [
              "<Figure size 432x288 with 1 Axes>"
            ]
          },
          "metadata": {
            "tags": []
          }
        },
        {
          "output_type": "display_data",
          "data": {
            "image/png": "[encoded data removed]",
            "text/plain": [
              "<Figure size 432x288 with 1 Axes>"
            ]
          },
          "metadata": {
            "tags": []
          }
        },
        {
          "output_type": "stream",
          "text": [
            "would like; medium build; social drinker; quiet nights; non smoker;\n",
            "long term; age open; Would like; easy going; financially secure; fun\n",
            "times; similar interests; Age open; weekends away; poss rship; well\n",
            "presented; never married; single mum; permanent relationship; slim\n",
            "build\n",
            "None\n",
            "[nltk_data] Downloading package gutenberg to /root/nltk_data...\n",
            "[nltk_data]   Package gutenberg is already up-to-date!\n",
            "Displaying 25 of 37 matches:\n",
            "er father , was sometimes taken by surprize at his being still able to pity ` \n",
            "hem do the other any good .\" \" You surprize me ! Emma must do Harriet good : a\n",
            "Knightley actually looked red with surprize and displeasure , as he stood up ,\n",
            "r . Elton , and found to his great surprize , that Mr . Elton was actually on \n",
            "d aid .\" Emma saw Mrs . Weston ' s surprize , and felt that it must be great ,\n",
            "father was quite taken up with the surprize of so sudden a journey , and his f\n",
            "y , in all the favouring warmth of surprize and conjecture . She was , moreove\n",
            "he appeared , to have her share of surprize , introduction , and pleasure . Th\n",
            "ir plans ; and it was an agreeable surprize to her , therefore , to perceive t\n",
            "talking aunt had taken me quite by surprize , it must have been the death of m\n",
            "f all the dialogue which ensued of surprize , and inquiry , and congratulation\n",
            " the present . They might chuse to surprize her .\" Mrs . Cole had many to agre\n",
            "the mode of it , the mystery , the surprize , is more like a young woman ' s s\n",
            " to her song took her agreeably by surprize -- a second , slightly but correct\n",
            "\" \" Oh ! no -- there is nothing to surprize one at all .-- A pretty fortune ; \n",
            "t to be considered . Emma ' s only surprize was that Jane Fairfax should accep\n",
            "of your admiration may take you by surprize some day or other .\" Mr . Knightle\n",
            "ation for her will ever take me by surprize .-- I never had a thought of her i\n",
            " expected by the best judges , for surprize -- but there was great joy . Mr . \n",
            " sound of at first , without great surprize . \" So unreasonably early !\" she w\n",
            "d Frank Churchill , with a look of surprize and displeasure .-- \" That is easy\n",
            "; and Emma could imagine with what surprize and mortification she must be retu\n",
            "tled that Jane should go . Quite a surprize to me ! I had not the least idea !\n",
            " . It is impossible to express our surprize . He came to speak to his father o\n",
            "g engaged !\" Emma even jumped with surprize ;-- and , horror - struck , exclai\n",
            "None\n",
            "112310\n"
          ],
          "name": "stdout"
        }
      ]
    }
  ]
}